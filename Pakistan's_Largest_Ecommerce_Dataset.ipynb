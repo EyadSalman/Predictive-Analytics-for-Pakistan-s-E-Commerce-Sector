{
  "cells": [
    {
      "cell_type": "code",
      "execution_count": null,
      "metadata": {
        "id": "r6WnS7pRV58Z"
      },
      "outputs": [],
      "source": [
        "import pandas as pd"
      ]
    },
    {
      "cell_type": "markdown",
      "source": [
        "**Importing Dataset**"
      ],
      "metadata": {
        "id": "7A6g_T19g10V"
      }
    },
    {
      "cell_type": "code",
      "execution_count": null,
      "metadata": {
        "id": "ZR4gEMUMsylE",
        "colab": {
          "base_uri": "https://localhost:8080/"
        },
        "outputId": "10529476-9cf1-4367-ebc3-be3394c85f81"
      },
      "outputs": [
        {
          "output_type": "stream",
          "name": "stderr",
          "text": [
            "<ipython-input-3-2beeab8dff7a>:1: DtypeWarning: Columns (1,2,3,7,8,9,11,12,13,14,17,18,19) have mixed types. Specify dtype option on import or set low_memory=False.\n",
            "  df = pd.read_csv(\"Pakistan Largest Ecommerce Dataset.csv\")\n"
          ]
        }
      ],
      "source": [
        "df = pd.read_csv(\"Pakistan Largest Ecommerce Dataset.csv\")"
      ]
    },
    {
      "cell_type": "code",
      "execution_count": null,
      "metadata": {
        "colab": {
          "base_uri": "https://localhost:8080/",
          "height": 411
        },
        "id": "NoSYM1h-s7vI",
        "outputId": "05956515-d376-41e2-930f-8379ad754ea8"
      },
      "outputs": [
        {
          "output_type": "execute_result",
          "data": {
            "text/plain": [
              "    item_id          status created_at  \\\n",
              "0  211131.0        complete   7/1/2016   \n",
              "1  211133.0        canceled   7/1/2016   \n",
              "2  211134.0        canceled   7/1/2016   \n",
              "3  211135.0        complete   7/1/2016   \n",
              "4  211136.0  order_refunded   7/1/2016   \n",
              "\n",
              "                                                 sku   price  qty_ordered  \\\n",
              "0                                  kreations_YI 06-L  1950.0          1.0   \n",
              "1  kcc_Buy 2 Frey Air Freshener & Get 1 Kasual Bo...   240.0          1.0   \n",
              "2                                 Ego_UP0017-999-MR0  2450.0          1.0   \n",
              "3                                     kcc_krone deal   360.0          1.0   \n",
              "4                                        BK7010400AG   555.0          2.0   \n",
              "\n",
              "   grand_total increment_id    category_name_1 sales_commission_code  ...  \\\n",
              "0       1950.0    100147443    Women's Fashion                    \\N  ...   \n",
              "1        240.0    100147444  Beauty & Grooming                    \\N  ...   \n",
              "2       2450.0    100147445    Women's Fashion                    \\N  ...   \n",
              "3         60.0    100147446  Beauty & Grooming           R-FSD-52352  ...   \n",
              "4       1110.0    100147447            Soghaat                    \\N  ...   \n",
              "\n",
              "   Month Customer Since     M-Y    FY Customer ID  Unnamed: 21  Unnamed: 22  \\\n",
              "0    7.0         2016-7  7-2016  FY17         1.0          NaN          NaN   \n",
              "1    7.0         2016-7  7-2016  FY17         2.0          NaN          NaN   \n",
              "2    7.0         2016-7  7-2016  FY17         3.0          NaN          NaN   \n",
              "3    7.0         2016-7  7-2016  FY17         4.0          NaN          NaN   \n",
              "4    7.0         2016-7  7-2016  FY17         5.0          NaN          NaN   \n",
              "\n",
              "  Unnamed: 23 Unnamed: 24 Unnamed: 25  \n",
              "0         NaN         NaN         NaN  \n",
              "1         NaN         NaN         NaN  \n",
              "2         NaN         NaN         NaN  \n",
              "3         NaN         NaN         NaN  \n",
              "4         NaN         NaN         NaN  \n",
              "\n",
              "[5 rows x 26 columns]"
            ],
            "text/html": [
              "\n",
              "  <div id=\"df-bc06e3ba-5b55-4318-8f3f-da16ed0227c3\" class=\"colab-df-container\">\n",
              "    <div>\n",
              "<style scoped>\n",
              "    .dataframe tbody tr th:only-of-type {\n",
              "        vertical-align: middle;\n",
              "    }\n",
              "\n",
              "    .dataframe tbody tr th {\n",
              "        vertical-align: top;\n",
              "    }\n",
              "\n",
              "    .dataframe thead th {\n",
              "        text-align: right;\n",
              "    }\n",
              "</style>\n",
              "<table border=\"1\" class=\"dataframe\">\n",
              "  <thead>\n",
              "    <tr style=\"text-align: right;\">\n",
              "      <th></th>\n",
              "      <th>item_id</th>\n",
              "      <th>status</th>\n",
              "      <th>created_at</th>\n",
              "      <th>sku</th>\n",
              "      <th>price</th>\n",
              "      <th>qty_ordered</th>\n",
              "      <th>grand_total</th>\n",
              "      <th>increment_id</th>\n",
              "      <th>category_name_1</th>\n",
              "      <th>sales_commission_code</th>\n",
              "      <th>...</th>\n",
              "      <th>Month</th>\n",
              "      <th>Customer Since</th>\n",
              "      <th>M-Y</th>\n",
              "      <th>FY</th>\n",
              "      <th>Customer ID</th>\n",
              "      <th>Unnamed: 21</th>\n",
              "      <th>Unnamed: 22</th>\n",
              "      <th>Unnamed: 23</th>\n",
              "      <th>Unnamed: 24</th>\n",
              "      <th>Unnamed: 25</th>\n",
              "    </tr>\n",
              "  </thead>\n",
              "  <tbody>\n",
              "    <tr>\n",
              "      <th>0</th>\n",
              "      <td>211131.0</td>\n",
              "      <td>complete</td>\n",
              "      <td>7/1/2016</td>\n",
              "      <td>kreations_YI 06-L</td>\n",
              "      <td>1950.0</td>\n",
              "      <td>1.0</td>\n",
              "      <td>1950.0</td>\n",
              "      <td>100147443</td>\n",
              "      <td>Women's Fashion</td>\n",
              "      <td>\\N</td>\n",
              "      <td>...</td>\n",
              "      <td>7.0</td>\n",
              "      <td>2016-7</td>\n",
              "      <td>7-2016</td>\n",
              "      <td>FY17</td>\n",
              "      <td>1.0</td>\n",
              "      <td>NaN</td>\n",
              "      <td>NaN</td>\n",
              "      <td>NaN</td>\n",
              "      <td>NaN</td>\n",
              "      <td>NaN</td>\n",
              "    </tr>\n",
              "    <tr>\n",
              "      <th>1</th>\n",
              "      <td>211133.0</td>\n",
              "      <td>canceled</td>\n",
              "      <td>7/1/2016</td>\n",
              "      <td>kcc_Buy 2 Frey Air Freshener &amp; Get 1 Kasual Bo...</td>\n",
              "      <td>240.0</td>\n",
              "      <td>1.0</td>\n",
              "      <td>240.0</td>\n",
              "      <td>100147444</td>\n",
              "      <td>Beauty &amp; Grooming</td>\n",
              "      <td>\\N</td>\n",
              "      <td>...</td>\n",
              "      <td>7.0</td>\n",
              "      <td>2016-7</td>\n",
              "      <td>7-2016</td>\n",
              "      <td>FY17</td>\n",
              "      <td>2.0</td>\n",
              "      <td>NaN</td>\n",
              "      <td>NaN</td>\n",
              "      <td>NaN</td>\n",
              "      <td>NaN</td>\n",
              "      <td>NaN</td>\n",
              "    </tr>\n",
              "    <tr>\n",
              "      <th>2</th>\n",
              "      <td>211134.0</td>\n",
              "      <td>canceled</td>\n",
              "      <td>7/1/2016</td>\n",
              "      <td>Ego_UP0017-999-MR0</td>\n",
              "      <td>2450.0</td>\n",
              "      <td>1.0</td>\n",
              "      <td>2450.0</td>\n",
              "      <td>100147445</td>\n",
              "      <td>Women's Fashion</td>\n",
              "      <td>\\N</td>\n",
              "      <td>...</td>\n",
              "      <td>7.0</td>\n",
              "      <td>2016-7</td>\n",
              "      <td>7-2016</td>\n",
              "      <td>FY17</td>\n",
              "      <td>3.0</td>\n",
              "      <td>NaN</td>\n",
              "      <td>NaN</td>\n",
              "      <td>NaN</td>\n",
              "      <td>NaN</td>\n",
              "      <td>NaN</td>\n",
              "    </tr>\n",
              "    <tr>\n",
              "      <th>3</th>\n",
              "      <td>211135.0</td>\n",
              "      <td>complete</td>\n",
              "      <td>7/1/2016</td>\n",
              "      <td>kcc_krone deal</td>\n",
              "      <td>360.0</td>\n",
              "      <td>1.0</td>\n",
              "      <td>60.0</td>\n",
              "      <td>100147446</td>\n",
              "      <td>Beauty &amp; Grooming</td>\n",
              "      <td>R-FSD-52352</td>\n",
              "      <td>...</td>\n",
              "      <td>7.0</td>\n",
              "      <td>2016-7</td>\n",
              "      <td>7-2016</td>\n",
              "      <td>FY17</td>\n",
              "      <td>4.0</td>\n",
              "      <td>NaN</td>\n",
              "      <td>NaN</td>\n",
              "      <td>NaN</td>\n",
              "      <td>NaN</td>\n",
              "      <td>NaN</td>\n",
              "    </tr>\n",
              "    <tr>\n",
              "      <th>4</th>\n",
              "      <td>211136.0</td>\n",
              "      <td>order_refunded</td>\n",
              "      <td>7/1/2016</td>\n",
              "      <td>BK7010400AG</td>\n",
              "      <td>555.0</td>\n",
              "      <td>2.0</td>\n",
              "      <td>1110.0</td>\n",
              "      <td>100147447</td>\n",
              "      <td>Soghaat</td>\n",
              "      <td>\\N</td>\n",
              "      <td>...</td>\n",
              "      <td>7.0</td>\n",
              "      <td>2016-7</td>\n",
              "      <td>7-2016</td>\n",
              "      <td>FY17</td>\n",
              "      <td>5.0</td>\n",
              "      <td>NaN</td>\n",
              "      <td>NaN</td>\n",
              "      <td>NaN</td>\n",
              "      <td>NaN</td>\n",
              "      <td>NaN</td>\n",
              "    </tr>\n",
              "  </tbody>\n",
              "</table>\n",
              "<p>5 rows × 26 columns</p>\n",
              "</div>\n",
              "    <div class=\"colab-df-buttons\">\n",
              "\n",
              "  <div class=\"colab-df-container\">\n",
              "    <button class=\"colab-df-convert\" onclick=\"convertToInteractive('df-bc06e3ba-5b55-4318-8f3f-da16ed0227c3')\"\n",
              "            title=\"Convert this dataframe to an interactive table.\"\n",
              "            style=\"display:none;\">\n",
              "\n",
              "  <svg xmlns=\"http://www.w3.org/2000/svg\" height=\"24px\" viewBox=\"0 -960 960 960\">\n",
              "    <path d=\"M120-120v-720h720v720H120Zm60-500h600v-160H180v160Zm220 220h160v-160H400v160Zm0 220h160v-160H400v160ZM180-400h160v-160H180v160Zm440 0h160v-160H620v160ZM180-180h160v-160H180v160Zm440 0h160v-160H620v160Z\"/>\n",
              "  </svg>\n",
              "    </button>\n",
              "\n",
              "  <style>\n",
              "    .colab-df-container {\n",
              "      display:flex;\n",
              "      gap: 12px;\n",
              "    }\n",
              "\n",
              "    .colab-df-convert {\n",
              "      background-color: #E8F0FE;\n",
              "      border: none;\n",
              "      border-radius: 50%;\n",
              "      cursor: pointer;\n",
              "      display: none;\n",
              "      fill: #1967D2;\n",
              "      height: 32px;\n",
              "      padding: 0 0 0 0;\n",
              "      width: 32px;\n",
              "    }\n",
              "\n",
              "    .colab-df-convert:hover {\n",
              "      background-color: #E2EBFA;\n",
              "      box-shadow: 0px 1px 2px rgba(60, 64, 67, 0.3), 0px 1px 3px 1px rgba(60, 64, 67, 0.15);\n",
              "      fill: #174EA6;\n",
              "    }\n",
              "\n",
              "    .colab-df-buttons div {\n",
              "      margin-bottom: 4px;\n",
              "    }\n",
              "\n",
              "    [theme=dark] .colab-df-convert {\n",
              "      background-color: #3B4455;\n",
              "      fill: #D2E3FC;\n",
              "    }\n",
              "\n",
              "    [theme=dark] .colab-df-convert:hover {\n",
              "      background-color: #434B5C;\n",
              "      box-shadow: 0px 1px 3px 1px rgba(0, 0, 0, 0.15);\n",
              "      filter: drop-shadow(0px 1px 2px rgba(0, 0, 0, 0.3));\n",
              "      fill: #FFFFFF;\n",
              "    }\n",
              "  </style>\n",
              "\n",
              "    <script>\n",
              "      const buttonEl =\n",
              "        document.querySelector('#df-bc06e3ba-5b55-4318-8f3f-da16ed0227c3 button.colab-df-convert');\n",
              "      buttonEl.style.display =\n",
              "        google.colab.kernel.accessAllowed ? 'block' : 'none';\n",
              "\n",
              "      async function convertToInteractive(key) {\n",
              "        const element = document.querySelector('#df-bc06e3ba-5b55-4318-8f3f-da16ed0227c3');\n",
              "        const dataTable =\n",
              "          await google.colab.kernel.invokeFunction('convertToInteractive',\n",
              "                                                    [key], {});\n",
              "        if (!dataTable) return;\n",
              "\n",
              "        const docLinkHtml = 'Like what you see? Visit the ' +\n",
              "          '<a target=\"_blank\" href=https://colab.research.google.com/notebooks/data_table.ipynb>data table notebook</a>'\n",
              "          + ' to learn more about interactive tables.';\n",
              "        element.innerHTML = '';\n",
              "        dataTable['output_type'] = 'display_data';\n",
              "        await google.colab.output.renderOutput(dataTable, element);\n",
              "        const docLink = document.createElement('div');\n",
              "        docLink.innerHTML = docLinkHtml;\n",
              "        element.appendChild(docLink);\n",
              "      }\n",
              "    </script>\n",
              "  </div>\n",
              "\n",
              "\n",
              "<div id=\"df-17a36847-0049-48ec-be61-968386f656e5\">\n",
              "  <button class=\"colab-df-quickchart\" onclick=\"quickchart('df-17a36847-0049-48ec-be61-968386f656e5')\"\n",
              "            title=\"Suggest charts\"\n",
              "            style=\"display:none;\">\n",
              "\n",
              "<svg xmlns=\"http://www.w3.org/2000/svg\" height=\"24px\"viewBox=\"0 0 24 24\"\n",
              "     width=\"24px\">\n",
              "    <g>\n",
              "        <path d=\"M19 3H5c-1.1 0-2 .9-2 2v14c0 1.1.9 2 2 2h14c1.1 0 2-.9 2-2V5c0-1.1-.9-2-2-2zM9 17H7v-7h2v7zm4 0h-2V7h2v10zm4 0h-2v-4h2v4z\"/>\n",
              "    </g>\n",
              "</svg>\n",
              "  </button>\n",
              "\n",
              "<style>\n",
              "  .colab-df-quickchart {\n",
              "      --bg-color: #E8F0FE;\n",
              "      --fill-color: #1967D2;\n",
              "      --hover-bg-color: #E2EBFA;\n",
              "      --hover-fill-color: #174EA6;\n",
              "      --disabled-fill-color: #AAA;\n",
              "      --disabled-bg-color: #DDD;\n",
              "  }\n",
              "\n",
              "  [theme=dark] .colab-df-quickchart {\n",
              "      --bg-color: #3B4455;\n",
              "      --fill-color: #D2E3FC;\n",
              "      --hover-bg-color: #434B5C;\n",
              "      --hover-fill-color: #FFFFFF;\n",
              "      --disabled-bg-color: #3B4455;\n",
              "      --disabled-fill-color: #666;\n",
              "  }\n",
              "\n",
              "  .colab-df-quickchart {\n",
              "    background-color: var(--bg-color);\n",
              "    border: none;\n",
              "    border-radius: 50%;\n",
              "    cursor: pointer;\n",
              "    display: none;\n",
              "    fill: var(--fill-color);\n",
              "    height: 32px;\n",
              "    padding: 0;\n",
              "    width: 32px;\n",
              "  }\n",
              "\n",
              "  .colab-df-quickchart:hover {\n",
              "    background-color: var(--hover-bg-color);\n",
              "    box-shadow: 0 1px 2px rgba(60, 64, 67, 0.3), 0 1px 3px 1px rgba(60, 64, 67, 0.15);\n",
              "    fill: var(--button-hover-fill-color);\n",
              "  }\n",
              "\n",
              "  .colab-df-quickchart-complete:disabled,\n",
              "  .colab-df-quickchart-complete:disabled:hover {\n",
              "    background-color: var(--disabled-bg-color);\n",
              "    fill: var(--disabled-fill-color);\n",
              "    box-shadow: none;\n",
              "  }\n",
              "\n",
              "  .colab-df-spinner {\n",
              "    border: 2px solid var(--fill-color);\n",
              "    border-color: transparent;\n",
              "    border-bottom-color: var(--fill-color);\n",
              "    animation:\n",
              "      spin 1s steps(1) infinite;\n",
              "  }\n",
              "\n",
              "  @keyframes spin {\n",
              "    0% {\n",
              "      border-color: transparent;\n",
              "      border-bottom-color: var(--fill-color);\n",
              "      border-left-color: var(--fill-color);\n",
              "    }\n",
              "    20% {\n",
              "      border-color: transparent;\n",
              "      border-left-color: var(--fill-color);\n",
              "      border-top-color: var(--fill-color);\n",
              "    }\n",
              "    30% {\n",
              "      border-color: transparent;\n",
              "      border-left-color: var(--fill-color);\n",
              "      border-top-color: var(--fill-color);\n",
              "      border-right-color: var(--fill-color);\n",
              "    }\n",
              "    40% {\n",
              "      border-color: transparent;\n",
              "      border-right-color: var(--fill-color);\n",
              "      border-top-color: var(--fill-color);\n",
              "    }\n",
              "    60% {\n",
              "      border-color: transparent;\n",
              "      border-right-color: var(--fill-color);\n",
              "    }\n",
              "    80% {\n",
              "      border-color: transparent;\n",
              "      border-right-color: var(--fill-color);\n",
              "      border-bottom-color: var(--fill-color);\n",
              "    }\n",
              "    90% {\n",
              "      border-color: transparent;\n",
              "      border-bottom-color: var(--fill-color);\n",
              "    }\n",
              "  }\n",
              "</style>\n",
              "\n",
              "  <script>\n",
              "    async function quickchart(key) {\n",
              "      const quickchartButtonEl =\n",
              "        document.querySelector('#' + key + ' button');\n",
              "      quickchartButtonEl.disabled = true;  // To prevent multiple clicks.\n",
              "      quickchartButtonEl.classList.add('colab-df-spinner');\n",
              "      try {\n",
              "        const charts = await google.colab.kernel.invokeFunction(\n",
              "            'suggestCharts', [key], {});\n",
              "      } catch (error) {\n",
              "        console.error('Error during call to suggestCharts:', error);\n",
              "      }\n",
              "      quickchartButtonEl.classList.remove('colab-df-spinner');\n",
              "      quickchartButtonEl.classList.add('colab-df-quickchart-complete');\n",
              "    }\n",
              "    (() => {\n",
              "      let quickchartButtonEl =\n",
              "        document.querySelector('#df-17a36847-0049-48ec-be61-968386f656e5 button');\n",
              "      quickchartButtonEl.style.display =\n",
              "        google.colab.kernel.accessAllowed ? 'block' : 'none';\n",
              "    })();\n",
              "  </script>\n",
              "</div>\n",
              "\n",
              "    </div>\n",
              "  </div>\n"
            ],
            "application/vnd.google.colaboratory.intrinsic+json": {
              "type": "dataframe",
              "variable_name": "df"
            }
          },
          "metadata": {},
          "execution_count": 4
        }
      ],
      "source": [
        "df.head()"
      ]
    },
    {
      "cell_type": "markdown",
      "source": [
        "# **PREPROCESSING**\n",
        "\n",
        "\n",
        "\n",
        "\n",
        "\n"
      ],
      "metadata": {
        "id": "elJcnxOSg8lV"
      }
    },
    {
      "cell_type": "code",
      "execution_count": null,
      "metadata": {
        "id": "irpQAH2wt4dm"
      },
      "outputs": [],
      "source": [
        "df.drop(['Unnamed: 21','Unnamed: 22','Unnamed: 23','Unnamed: 24','Unnamed: 25'], axis=1, inplace=True)"
      ]
    },
    {
      "cell_type": "markdown",
      "source": [
        "**Shape**"
      ],
      "metadata": {
        "id": "xBBS4UaAhC2k"
      }
    },
    {
      "cell_type": "code",
      "execution_count": null,
      "metadata": {
        "colab": {
          "base_uri": "https://localhost:8080/"
        },
        "id": "B91iv-Qls_ST",
        "outputId": "3e0fb707-6d9e-4d68-8fb7-de63b0c0c7b2"
      },
      "outputs": [
        {
          "output_type": "execute_result",
          "data": {
            "text/plain": [
              "(1048575, 21)"
            ]
          },
          "metadata": {},
          "execution_count": 6
        }
      ],
      "source": [
        "df.shape"
      ]
    },
    {
      "cell_type": "markdown",
      "source": [
        "**Columns**"
      ],
      "metadata": {
        "id": "oEL9nxZQhcjf"
      }
    },
    {
      "cell_type": "code",
      "execution_count": null,
      "metadata": {
        "colab": {
          "base_uri": "https://localhost:8080/"
        },
        "id": "bt_1c60jtBHW",
        "outputId": "a17b23ba-6d0e-4344-ac80-fb945c632b90"
      },
      "outputs": [
        {
          "output_type": "execute_result",
          "data": {
            "text/plain": [
              "Index(['item_id', 'status', 'created_at', 'sku', 'price', 'qty_ordered',\n",
              "       'grand_total', 'increment_id', 'category_name_1',\n",
              "       'sales_commission_code', 'discount_amount', 'payment_method',\n",
              "       'Working Date', 'BI Status', ' MV ', 'Year', 'Month', 'Customer Since',\n",
              "       'M-Y', 'FY', 'Customer ID'],\n",
              "      dtype='object')"
            ]
          },
          "metadata": {},
          "execution_count": 7
        }
      ],
      "source": [
        "df.columns"
      ]
    },
    {
      "cell_type": "markdown",
      "source": [
        "**Data Types**"
      ],
      "metadata": {
        "id": "oG0x4inhhhcU"
      }
    },
    {
      "cell_type": "code",
      "execution_count": null,
      "metadata": {
        "colab": {
          "base_uri": "https://localhost:8080/"
        },
        "id": "piJ3gMx9tPIK",
        "outputId": "f85e6bcd-3f77-4a5a-beea-996ebaf3e066"
      },
      "outputs": [
        {
          "output_type": "stream",
          "name": "stdout",
          "text": [
            "item_id                  float64\n",
            "status                    object\n",
            "created_at                object\n",
            "sku                       object\n",
            "price                    float64\n",
            "qty_ordered              float64\n",
            "grand_total              float64\n",
            "increment_id              object\n",
            "category_name_1           object\n",
            "sales_commission_code     object\n",
            "discount_amount          float64\n",
            "payment_method            object\n",
            "Working Date              object\n",
            "BI Status                 object\n",
            " MV                       object\n",
            "Year                     float64\n",
            "Month                    float64\n",
            "Customer Since            object\n",
            "M-Y                       object\n",
            "FY                        object\n",
            "Customer ID              float64\n",
            "dtype: object\n"
          ]
        }
      ],
      "source": [
        "print(df.dtypes)"
      ]
    },
    {
      "cell_type": "markdown",
      "source": [
        "**Null values**"
      ],
      "metadata": {
        "id": "GDMKwPPzhl3G"
      }
    },
    {
      "cell_type": "code",
      "execution_count": null,
      "metadata": {
        "colab": {
          "base_uri": "https://localhost:8080/"
        },
        "id": "v-2ghyIku-Oo",
        "outputId": "98767921-6aca-48a9-fdc6-de0fd8b28768"
      },
      "outputs": [
        {
          "output_type": "execute_result",
          "data": {
            "text/plain": [
              "item_id                  464051\n",
              "status                   464066\n",
              "created_at               464051\n",
              "sku                      464071\n",
              "price                    464051\n",
              "qty_ordered              464051\n",
              "grand_total              464051\n",
              "increment_id             464051\n",
              "category_name_1          464215\n",
              "sales_commission_code    601229\n",
              "discount_amount          464051\n",
              "payment_method           464051\n",
              "Working Date             464051\n",
              "BI Status                464051\n",
              " MV                      464051\n",
              "Year                     464051\n",
              "Month                    464051\n",
              "Customer Since           464062\n",
              "M-Y                      464051\n",
              "FY                       464051\n",
              "Customer ID              464062\n",
              "dtype: int64"
            ]
          },
          "metadata": {},
          "execution_count": 9
        }
      ],
      "source": [
        "df.isnull().sum()"
      ]
    },
    {
      "cell_type": "markdown",
      "source": [
        "**Replacing Null with mean** (Numerical)"
      ],
      "metadata": {
        "id": "qdRrEY4Hhqgi"
      }
    },
    {
      "cell_type": "code",
      "execution_count": null,
      "metadata": {
        "id": "k2tMWCzjvVz4"
      },
      "outputs": [],
      "source": [
        "# Replace missing values in numerical columns with mean (rounded down)\n",
        "numerical_cols = df.select_dtypes(include=['int', 'float']).columns\n",
        "for col in numerical_cols:\n",
        "    mean_value = df[col].mean()\n",
        "    df[col].fillna(int(mean_value), inplace=True)"
      ]
    },
    {
      "cell_type": "markdown",
      "source": [
        "**Replacing Null with mode**(Categorical)"
      ],
      "metadata": {
        "id": "ognW17y2hytf"
      }
    },
    {
      "cell_type": "code",
      "execution_count": null,
      "metadata": {
        "id": "lFaEb0k4vV3J"
      },
      "outputs": [],
      "source": [
        "# Replace missing values in categorical columns with mode\n",
        "categorical_cols = df.select_dtypes(include=['object']).columns\n",
        "for col in categorical_cols:\n",
        "    mode_value = df[col].mode()[0]\n",
        "    df[col].fillna(mode_value, inplace=True)"
      ]
    },
    {
      "cell_type": "markdown",
      "source": [
        "**Removing Outliers (IQR)**"
      ],
      "metadata": {
        "id": "QuThwtNAh98b"
      }
    },
    {
      "cell_type": "code",
      "execution_count": null,
      "metadata": {
        "id": "vM3JLZ-B4RDE"
      },
      "outputs": [],
      "source": [
        "def replace_outliers_with_mean(column):\n",
        "    mean_value = column.mean()\n",
        "    std_dev = column.std()\n",
        "    lower_bound = mean_value - 3 * std_dev  # Lower bound of outliers (3 standard deviations away from the mean)\n",
        "    upper_bound = mean_value + 3 * std_dev  # Upper bound of outliers (3 standard deviations away from the mean)\n",
        "    column = column.apply(lambda x: x if lower_bound <= x <= upper_bound else mean_value)\n",
        "    return column\n",
        "\n",
        "# Replace outliers with mean for numerical columns\n",
        "numerical_cols = df.select_dtypes(include=['int', 'float']).columns\n",
        "for col in numerical_cols:\n",
        "    df[col] = replace_outliers_with_mean(df[col])"
      ]
    },
    {
      "cell_type": "markdown",
      "source": [
        "**Formatting Date**"
      ],
      "metadata": {
        "id": "L3pbKS9hiL77"
      }
    },
    {
      "cell_type": "code",
      "execution_count": null,
      "metadata": {
        "id": "aijrmKwD4TO1"
      },
      "outputs": [],
      "source": [
        "# Assuming 'Working D' is the name of the column with the date in the format 'month/day/year'\n",
        "# Convert 'Working D' to datetime format\n",
        "df['Working Date'] = pd.to_datetime(df['Working Date'], format='%m/%d/%Y')\n",
        "\n",
        "# Extract day and create a new integer column 'day'\n",
        "df['Day'] = df['Working Date'].dt.day\n",
        "\n"
      ]
    },
    {
      "cell_type": "code",
      "execution_count": null,
      "metadata": {
        "colab": {
          "base_uri": "https://localhost:8080/",
          "height": 359
        },
        "id": "ZILQrtZT5vRN",
        "outputId": "d621b12b-dad9-49d9-e59f-4c74bb3349c1"
      },
      "outputs": [
        {
          "output_type": "execute_result",
          "data": {
            "text/plain": [
              "          item_id    status  created_at                  sku   price  \\\n",
              "1048570  565667.0  complete  11/25/2016  MATSAM59DB75ADB2F80  6348.0   \n",
              "1048571  565667.0  complete  11/25/2016  MATSAM59DB75ADB2F80  6348.0   \n",
              "1048572  565667.0  complete  11/25/2016  MATSAM59DB75ADB2F80  6348.0   \n",
              "1048573  565667.0  complete  11/25/2016  MATSAM59DB75ADB2F80  6348.0   \n",
              "1048574  565667.0  complete  11/25/2016  MATSAM59DB75ADB2F80  6348.0   \n",
              "\n",
              "         qty_ordered  grand_total increment_id    category_name_1  \\\n",
              "1048570          1.0       8530.0    100266667  Mobiles & Tablets   \n",
              "1048571          1.0       8530.0    100266667  Mobiles & Tablets   \n",
              "1048572          1.0       8530.0    100266667  Mobiles & Tablets   \n",
              "1048573          1.0       8530.0    100266667  Mobiles & Tablets   \n",
              "1048574          1.0       8530.0    100266667  Mobiles & Tablets   \n",
              "\n",
              "        sales_commission_code  ...  Working Date BI Status    MV     Year  \\\n",
              "1048570                    \\N  ...    2016-11-25       Net   999   2017.0   \n",
              "1048571                    \\N  ...    2016-11-25       Net   999   2017.0   \n",
              "1048572                    \\N  ...    2016-11-25       Net   999   2017.0   \n",
              "1048573                    \\N  ...    2016-11-25       Net   999   2017.0   \n",
              "1048574                    \\N  ...    2016-11-25       Net   999   2017.0   \n",
              "\n",
              "        Month  Customer Since      M-Y    FY Customer ID Day  \n",
              "1048570   7.0         2016-11  11-2017  FY18     45790.0  25  \n",
              "1048571   7.0         2016-11  11-2017  FY18     45790.0  25  \n",
              "1048572   7.0         2016-11  11-2017  FY18     45790.0  25  \n",
              "1048573   7.0         2016-11  11-2017  FY18     45790.0  25  \n",
              "1048574   7.0         2016-11  11-2017  FY18     45790.0  25  \n",
              "\n",
              "[5 rows x 22 columns]"
            ],
            "text/html": [
              "\n",
              "  <div id=\"df-cf1de304-451d-4b10-88bd-6ef4f3398868\" class=\"colab-df-container\">\n",
              "    <div>\n",
              "<style scoped>\n",
              "    .dataframe tbody tr th:only-of-type {\n",
              "        vertical-align: middle;\n",
              "    }\n",
              "\n",
              "    .dataframe tbody tr th {\n",
              "        vertical-align: top;\n",
              "    }\n",
              "\n",
              "    .dataframe thead th {\n",
              "        text-align: right;\n",
              "    }\n",
              "</style>\n",
              "<table border=\"1\" class=\"dataframe\">\n",
              "  <thead>\n",
              "    <tr style=\"text-align: right;\">\n",
              "      <th></th>\n",
              "      <th>item_id</th>\n",
              "      <th>status</th>\n",
              "      <th>created_at</th>\n",
              "      <th>sku</th>\n",
              "      <th>price</th>\n",
              "      <th>qty_ordered</th>\n",
              "      <th>grand_total</th>\n",
              "      <th>increment_id</th>\n",
              "      <th>category_name_1</th>\n",
              "      <th>sales_commission_code</th>\n",
              "      <th>...</th>\n",
              "      <th>Working Date</th>\n",
              "      <th>BI Status</th>\n",
              "      <th>MV</th>\n",
              "      <th>Year</th>\n",
              "      <th>Month</th>\n",
              "      <th>Customer Since</th>\n",
              "      <th>M-Y</th>\n",
              "      <th>FY</th>\n",
              "      <th>Customer ID</th>\n",
              "      <th>Day</th>\n",
              "    </tr>\n",
              "  </thead>\n",
              "  <tbody>\n",
              "    <tr>\n",
              "      <th>1048570</th>\n",
              "      <td>565667.0</td>\n",
              "      <td>complete</td>\n",
              "      <td>11/25/2016</td>\n",
              "      <td>MATSAM59DB75ADB2F80</td>\n",
              "      <td>6348.0</td>\n",
              "      <td>1.0</td>\n",
              "      <td>8530.0</td>\n",
              "      <td>100266667</td>\n",
              "      <td>Mobiles &amp; Tablets</td>\n",
              "      <td>\\N</td>\n",
              "      <td>...</td>\n",
              "      <td>2016-11-25</td>\n",
              "      <td>Net</td>\n",
              "      <td>999</td>\n",
              "      <td>2017.0</td>\n",
              "      <td>7.0</td>\n",
              "      <td>2016-11</td>\n",
              "      <td>11-2017</td>\n",
              "      <td>FY18</td>\n",
              "      <td>45790.0</td>\n",
              "      <td>25</td>\n",
              "    </tr>\n",
              "    <tr>\n",
              "      <th>1048571</th>\n",
              "      <td>565667.0</td>\n",
              "      <td>complete</td>\n",
              "      <td>11/25/2016</td>\n",
              "      <td>MATSAM59DB75ADB2F80</td>\n",
              "      <td>6348.0</td>\n",
              "      <td>1.0</td>\n",
              "      <td>8530.0</td>\n",
              "      <td>100266667</td>\n",
              "      <td>Mobiles &amp; Tablets</td>\n",
              "      <td>\\N</td>\n",
              "      <td>...</td>\n",
              "      <td>2016-11-25</td>\n",
              "      <td>Net</td>\n",
              "      <td>999</td>\n",
              "      <td>2017.0</td>\n",
              "      <td>7.0</td>\n",
              "      <td>2016-11</td>\n",
              "      <td>11-2017</td>\n",
              "      <td>FY18</td>\n",
              "      <td>45790.0</td>\n",
              "      <td>25</td>\n",
              "    </tr>\n",
              "    <tr>\n",
              "      <th>1048572</th>\n",
              "      <td>565667.0</td>\n",
              "      <td>complete</td>\n",
              "      <td>11/25/2016</td>\n",
              "      <td>MATSAM59DB75ADB2F80</td>\n",
              "      <td>6348.0</td>\n",
              "      <td>1.0</td>\n",
              "      <td>8530.0</td>\n",
              "      <td>100266667</td>\n",
              "      <td>Mobiles &amp; Tablets</td>\n",
              "      <td>\\N</td>\n",
              "      <td>...</td>\n",
              "      <td>2016-11-25</td>\n",
              "      <td>Net</td>\n",
              "      <td>999</td>\n",
              "      <td>2017.0</td>\n",
              "      <td>7.0</td>\n",
              "      <td>2016-11</td>\n",
              "      <td>11-2017</td>\n",
              "      <td>FY18</td>\n",
              "      <td>45790.0</td>\n",
              "      <td>25</td>\n",
              "    </tr>\n",
              "    <tr>\n",
              "      <th>1048573</th>\n",
              "      <td>565667.0</td>\n",
              "      <td>complete</td>\n",
              "      <td>11/25/2016</td>\n",
              "      <td>MATSAM59DB75ADB2F80</td>\n",
              "      <td>6348.0</td>\n",
              "      <td>1.0</td>\n",
              "      <td>8530.0</td>\n",
              "      <td>100266667</td>\n",
              "      <td>Mobiles &amp; Tablets</td>\n",
              "      <td>\\N</td>\n",
              "      <td>...</td>\n",
              "      <td>2016-11-25</td>\n",
              "      <td>Net</td>\n",
              "      <td>999</td>\n",
              "      <td>2017.0</td>\n",
              "      <td>7.0</td>\n",
              "      <td>2016-11</td>\n",
              "      <td>11-2017</td>\n",
              "      <td>FY18</td>\n",
              "      <td>45790.0</td>\n",
              "      <td>25</td>\n",
              "    </tr>\n",
              "    <tr>\n",
              "      <th>1048574</th>\n",
              "      <td>565667.0</td>\n",
              "      <td>complete</td>\n",
              "      <td>11/25/2016</td>\n",
              "      <td>MATSAM59DB75ADB2F80</td>\n",
              "      <td>6348.0</td>\n",
              "      <td>1.0</td>\n",
              "      <td>8530.0</td>\n",
              "      <td>100266667</td>\n",
              "      <td>Mobiles &amp; Tablets</td>\n",
              "      <td>\\N</td>\n",
              "      <td>...</td>\n",
              "      <td>2016-11-25</td>\n",
              "      <td>Net</td>\n",
              "      <td>999</td>\n",
              "      <td>2017.0</td>\n",
              "      <td>7.0</td>\n",
              "      <td>2016-11</td>\n",
              "      <td>11-2017</td>\n",
              "      <td>FY18</td>\n",
              "      <td>45790.0</td>\n",
              "      <td>25</td>\n",
              "    </tr>\n",
              "  </tbody>\n",
              "</table>\n",
              "<p>5 rows × 22 columns</p>\n",
              "</div>\n",
              "    <div class=\"colab-df-buttons\">\n",
              "\n",
              "  <div class=\"colab-df-container\">\n",
              "    <button class=\"colab-df-convert\" onclick=\"convertToInteractive('df-cf1de304-451d-4b10-88bd-6ef4f3398868')\"\n",
              "            title=\"Convert this dataframe to an interactive table.\"\n",
              "            style=\"display:none;\">\n",
              "\n",
              "  <svg xmlns=\"http://www.w3.org/2000/svg\" height=\"24px\" viewBox=\"0 -960 960 960\">\n",
              "    <path d=\"M120-120v-720h720v720H120Zm60-500h600v-160H180v160Zm220 220h160v-160H400v160Zm0 220h160v-160H400v160ZM180-400h160v-160H180v160Zm440 0h160v-160H620v160ZM180-180h160v-160H180v160Zm440 0h160v-160H620v160Z\"/>\n",
              "  </svg>\n",
              "    </button>\n",
              "\n",
              "  <style>\n",
              "    .colab-df-container {\n",
              "      display:flex;\n",
              "      gap: 12px;\n",
              "    }\n",
              "\n",
              "    .colab-df-convert {\n",
              "      background-color: #E8F0FE;\n",
              "      border: none;\n",
              "      border-radius: 50%;\n",
              "      cursor: pointer;\n",
              "      display: none;\n",
              "      fill: #1967D2;\n",
              "      height: 32px;\n",
              "      padding: 0 0 0 0;\n",
              "      width: 32px;\n",
              "    }\n",
              "\n",
              "    .colab-df-convert:hover {\n",
              "      background-color: #E2EBFA;\n",
              "      box-shadow: 0px 1px 2px rgba(60, 64, 67, 0.3), 0px 1px 3px 1px rgba(60, 64, 67, 0.15);\n",
              "      fill: #174EA6;\n",
              "    }\n",
              "\n",
              "    .colab-df-buttons div {\n",
              "      margin-bottom: 4px;\n",
              "    }\n",
              "\n",
              "    [theme=dark] .colab-df-convert {\n",
              "      background-color: #3B4455;\n",
              "      fill: #D2E3FC;\n",
              "    }\n",
              "\n",
              "    [theme=dark] .colab-df-convert:hover {\n",
              "      background-color: #434B5C;\n",
              "      box-shadow: 0px 1px 3px 1px rgba(0, 0, 0, 0.15);\n",
              "      filter: drop-shadow(0px 1px 2px rgba(0, 0, 0, 0.3));\n",
              "      fill: #FFFFFF;\n",
              "    }\n",
              "  </style>\n",
              "\n",
              "    <script>\n",
              "      const buttonEl =\n",
              "        document.querySelector('#df-cf1de304-451d-4b10-88bd-6ef4f3398868 button.colab-df-convert');\n",
              "      buttonEl.style.display =\n",
              "        google.colab.kernel.accessAllowed ? 'block' : 'none';\n",
              "\n",
              "      async function convertToInteractive(key) {\n",
              "        const element = document.querySelector('#df-cf1de304-451d-4b10-88bd-6ef4f3398868');\n",
              "        const dataTable =\n",
              "          await google.colab.kernel.invokeFunction('convertToInteractive',\n",
              "                                                    [key], {});\n",
              "        if (!dataTable) return;\n",
              "\n",
              "        const docLinkHtml = 'Like what you see? Visit the ' +\n",
              "          '<a target=\"_blank\" href=https://colab.research.google.com/notebooks/data_table.ipynb>data table notebook</a>'\n",
              "          + ' to learn more about interactive tables.';\n",
              "        element.innerHTML = '';\n",
              "        dataTable['output_type'] = 'display_data';\n",
              "        await google.colab.output.renderOutput(dataTable, element);\n",
              "        const docLink = document.createElement('div');\n",
              "        docLink.innerHTML = docLinkHtml;\n",
              "        element.appendChild(docLink);\n",
              "      }\n",
              "    </script>\n",
              "  </div>\n",
              "\n",
              "\n",
              "<div id=\"df-69a39544-25b1-4c48-ae77-ffe313f7ae74\">\n",
              "  <button class=\"colab-df-quickchart\" onclick=\"quickchart('df-69a39544-25b1-4c48-ae77-ffe313f7ae74')\"\n",
              "            title=\"Suggest charts\"\n",
              "            style=\"display:none;\">\n",
              "\n",
              "<svg xmlns=\"http://www.w3.org/2000/svg\" height=\"24px\"viewBox=\"0 0 24 24\"\n",
              "     width=\"24px\">\n",
              "    <g>\n",
              "        <path d=\"M19 3H5c-1.1 0-2 .9-2 2v14c0 1.1.9 2 2 2h14c1.1 0 2-.9 2-2V5c0-1.1-.9-2-2-2zM9 17H7v-7h2v7zm4 0h-2V7h2v10zm4 0h-2v-4h2v4z\"/>\n",
              "    </g>\n",
              "</svg>\n",
              "  </button>\n",
              "\n",
              "<style>\n",
              "  .colab-df-quickchart {\n",
              "      --bg-color: #E8F0FE;\n",
              "      --fill-color: #1967D2;\n",
              "      --hover-bg-color: #E2EBFA;\n",
              "      --hover-fill-color: #174EA6;\n",
              "      --disabled-fill-color: #AAA;\n",
              "      --disabled-bg-color: #DDD;\n",
              "  }\n",
              "\n",
              "  [theme=dark] .colab-df-quickchart {\n",
              "      --bg-color: #3B4455;\n",
              "      --fill-color: #D2E3FC;\n",
              "      --hover-bg-color: #434B5C;\n",
              "      --hover-fill-color: #FFFFFF;\n",
              "      --disabled-bg-color: #3B4455;\n",
              "      --disabled-fill-color: #666;\n",
              "  }\n",
              "\n",
              "  .colab-df-quickchart {\n",
              "    background-color: var(--bg-color);\n",
              "    border: none;\n",
              "    border-radius: 50%;\n",
              "    cursor: pointer;\n",
              "    display: none;\n",
              "    fill: var(--fill-color);\n",
              "    height: 32px;\n",
              "    padding: 0;\n",
              "    width: 32px;\n",
              "  }\n",
              "\n",
              "  .colab-df-quickchart:hover {\n",
              "    background-color: var(--hover-bg-color);\n",
              "    box-shadow: 0 1px 2px rgba(60, 64, 67, 0.3), 0 1px 3px 1px rgba(60, 64, 67, 0.15);\n",
              "    fill: var(--button-hover-fill-color);\n",
              "  }\n",
              "\n",
              "  .colab-df-quickchart-complete:disabled,\n",
              "  .colab-df-quickchart-complete:disabled:hover {\n",
              "    background-color: var(--disabled-bg-color);\n",
              "    fill: var(--disabled-fill-color);\n",
              "    box-shadow: none;\n",
              "  }\n",
              "\n",
              "  .colab-df-spinner {\n",
              "    border: 2px solid var(--fill-color);\n",
              "    border-color: transparent;\n",
              "    border-bottom-color: var(--fill-color);\n",
              "    animation:\n",
              "      spin 1s steps(1) infinite;\n",
              "  }\n",
              "\n",
              "  @keyframes spin {\n",
              "    0% {\n",
              "      border-color: transparent;\n",
              "      border-bottom-color: var(--fill-color);\n",
              "      border-left-color: var(--fill-color);\n",
              "    }\n",
              "    20% {\n",
              "      border-color: transparent;\n",
              "      border-left-color: var(--fill-color);\n",
              "      border-top-color: var(--fill-color);\n",
              "    }\n",
              "    30% {\n",
              "      border-color: transparent;\n",
              "      border-left-color: var(--fill-color);\n",
              "      border-top-color: var(--fill-color);\n",
              "      border-right-color: var(--fill-color);\n",
              "    }\n",
              "    40% {\n",
              "      border-color: transparent;\n",
              "      border-right-color: var(--fill-color);\n",
              "      border-top-color: var(--fill-color);\n",
              "    }\n",
              "    60% {\n",
              "      border-color: transparent;\n",
              "      border-right-color: var(--fill-color);\n",
              "    }\n",
              "    80% {\n",
              "      border-color: transparent;\n",
              "      border-right-color: var(--fill-color);\n",
              "      border-bottom-color: var(--fill-color);\n",
              "    }\n",
              "    90% {\n",
              "      border-color: transparent;\n",
              "      border-bottom-color: var(--fill-color);\n",
              "    }\n",
              "  }\n",
              "</style>\n",
              "\n",
              "  <script>\n",
              "    async function quickchart(key) {\n",
              "      const quickchartButtonEl =\n",
              "        document.querySelector('#' + key + ' button');\n",
              "      quickchartButtonEl.disabled = true;  // To prevent multiple clicks.\n",
              "      quickchartButtonEl.classList.add('colab-df-spinner');\n",
              "      try {\n",
              "        const charts = await google.colab.kernel.invokeFunction(\n",
              "            'suggestCharts', [key], {});\n",
              "      } catch (error) {\n",
              "        console.error('Error during call to suggestCharts:', error);\n",
              "      }\n",
              "      quickchartButtonEl.classList.remove('colab-df-spinner');\n",
              "      quickchartButtonEl.classList.add('colab-df-quickchart-complete');\n",
              "    }\n",
              "    (() => {\n",
              "      let quickchartButtonEl =\n",
              "        document.querySelector('#df-69a39544-25b1-4c48-ae77-ffe313f7ae74 button');\n",
              "      quickchartButtonEl.style.display =\n",
              "        google.colab.kernel.accessAllowed ? 'block' : 'none';\n",
              "    })();\n",
              "  </script>\n",
              "</div>\n",
              "\n",
              "    </div>\n",
              "  </div>\n"
            ],
            "application/vnd.google.colaboratory.intrinsic+json": {
              "type": "dataframe"
            }
          },
          "metadata": {},
          "execution_count": 14
        }
      ],
      "source": [
        "df.tail()"
      ]
    },
    {
      "cell_type": "markdown",
      "metadata": {
        "id": "7FDJcIqaS4b8"
      },
      "source": [
        "#**Visualization 📊**\n"
      ]
    },
    {
      "cell_type": "code",
      "execution_count": null,
      "metadata": {
        "id": "FXV5A2wj6DOr"
      },
      "outputs": [],
      "source": [
        "import matplotlib.pyplot as plt\n",
        "import plotly.express as px"
      ]
    },
    {
      "cell_type": "markdown",
      "source": [
        "**Bar Chart**"
      ],
      "metadata": {
        "id": "3_nwG7rKk9ds"
      }
    },
    {
      "cell_type": "code",
      "execution_count": null,
      "metadata": {
        "colab": {
          "base_uri": "https://localhost:8080/",
          "height": 542
        },
        "id": "-XoXM6sMT5C6",
        "outputId": "5989ddaa-e8b0-423b-e624-db05798474a3"
      },
      "outputs": [
        {
          "output_type": "display_data",
          "data": {
            "text/html": [
              "<html>\n",
              "<head><meta charset=\"utf-8\" /></head>\n",
              "<body>\n",
              "    <div>            <script src=\"https://cdnjs.cloudflare.com/ajax/libs/mathjax/2.7.5/MathJax.js?config=TeX-AMS-MML_SVG\"></script><script type=\"text/javascript\">if (window.MathJax && window.MathJax.Hub && window.MathJax.Hub.Config) {window.MathJax.Hub.Config({SVG: {font: \"STIX-Web\"}});}</script>                <script type=\"text/javascript\">window.PlotlyConfig = {MathJaxConfig: 'local'};</script>\n",
              "        <script charset=\"utf-8\" src=\"https://cdn.plot.ly/plotly-2.24.1.min.js\"></script>                <div id=\"0136d96e-e876-460d-9ed0-5b814053e8c8\" class=\"plotly-graph-div\" style=\"height:525px; width:100%;\"></div>            <script type=\"text/javascript\">                                    window.PLOTLYENV=window.PLOTLYENV || {};                                    if (document.getElementById(\"0136d96e-e876-460d-9ed0-5b814053e8c8\")) {                    Plotly.newPlot(                        \"0136d96e-e876-460d-9ed0-5b814053e8c8\",                        [{\"alignmentgroup\":\"True\",\"hovertemplate\":\"Status=%{x}\\u003cbr\\u003eCount=%{y}\\u003cextra\\u003e\\u003c\\u002fextra\\u003e\",\"legendgroup\":\"\",\"marker\":{\"color\":\"#636efa\",\"pattern\":{\"shape\":\"\"}},\"name\":\"\",\"offsetgroup\":\"\",\"orientation\":\"v\",\"showlegend\":false,\"textposition\":\"auto\",\"x\":[\"complete\",\"canceled\",\"received\",\"order_refunded\",\"refund\",\"cod\",\"paid\",\"closed\",\"payment_review\",\"pending\",\"processing\",\"holded\",\"fraud\",\"pending_paypal\",\"exchange\",\"\\\\N\"],\"xaxis\":\"x\",\"y\":[697751,201249,77290,59529,8050,2859,1159,494,57,48,33,31,10,7,4,4],\"yaxis\":\"y\",\"type\":\"bar\"}],                        {\"template\":{\"data\":{\"histogram2dcontour\":[{\"type\":\"histogram2dcontour\",\"colorbar\":{\"outlinewidth\":0,\"ticks\":\"\"},\"colorscale\":[[0.0,\"#0d0887\"],[0.1111111111111111,\"#46039f\"],[0.2222222222222222,\"#7201a8\"],[0.3333333333333333,\"#9c179e\"],[0.4444444444444444,\"#bd3786\"],[0.5555555555555556,\"#d8576b\"],[0.6666666666666666,\"#ed7953\"],[0.7777777777777778,\"#fb9f3a\"],[0.8888888888888888,\"#fdca26\"],[1.0,\"#f0f921\"]]}],\"choropleth\":[{\"type\":\"choropleth\",\"colorbar\":{\"outlinewidth\":0,\"ticks\":\"\"}}],\"histogram2d\":[{\"type\":\"histogram2d\",\"colorbar\":{\"outlinewidth\":0,\"ticks\":\"\"},\"colorscale\":[[0.0,\"#0d0887\"],[0.1111111111111111,\"#46039f\"],[0.2222222222222222,\"#7201a8\"],[0.3333333333333333,\"#9c179e\"],[0.4444444444444444,\"#bd3786\"],[0.5555555555555556,\"#d8576b\"],[0.6666666666666666,\"#ed7953\"],[0.7777777777777778,\"#fb9f3a\"],[0.8888888888888888,\"#fdca26\"],[1.0,\"#f0f921\"]]}],\"heatmap\":[{\"type\":\"heatmap\",\"colorbar\":{\"outlinewidth\":0,\"ticks\":\"\"},\"colorscale\":[[0.0,\"#0d0887\"],[0.1111111111111111,\"#46039f\"],[0.2222222222222222,\"#7201a8\"],[0.3333333333333333,\"#9c179e\"],[0.4444444444444444,\"#bd3786\"],[0.5555555555555556,\"#d8576b\"],[0.6666666666666666,\"#ed7953\"],[0.7777777777777778,\"#fb9f3a\"],[0.8888888888888888,\"#fdca26\"],[1.0,\"#f0f921\"]]}],\"heatmapgl\":[{\"type\":\"heatmapgl\",\"colorbar\":{\"outlinewidth\":0,\"ticks\":\"\"},\"colorscale\":[[0.0,\"#0d0887\"],[0.1111111111111111,\"#46039f\"],[0.2222222222222222,\"#7201a8\"],[0.3333333333333333,\"#9c179e\"],[0.4444444444444444,\"#bd3786\"],[0.5555555555555556,\"#d8576b\"],[0.6666666666666666,\"#ed7953\"],[0.7777777777777778,\"#fb9f3a\"],[0.8888888888888888,\"#fdca26\"],[1.0,\"#f0f921\"]]}],\"contourcarpet\":[{\"type\":\"contourcarpet\",\"colorbar\":{\"outlinewidth\":0,\"ticks\":\"\"}}],\"contour\":[{\"type\":\"contour\",\"colorbar\":{\"outlinewidth\":0,\"ticks\":\"\"},\"colorscale\":[[0.0,\"#0d0887\"],[0.1111111111111111,\"#46039f\"],[0.2222222222222222,\"#7201a8\"],[0.3333333333333333,\"#9c179e\"],[0.4444444444444444,\"#bd3786\"],[0.5555555555555556,\"#d8576b\"],[0.6666666666666666,\"#ed7953\"],[0.7777777777777778,\"#fb9f3a\"],[0.8888888888888888,\"#fdca26\"],[1.0,\"#f0f921\"]]}],\"surface\":[{\"type\":\"surface\",\"colorbar\":{\"outlinewidth\":0,\"ticks\":\"\"},\"colorscale\":[[0.0,\"#0d0887\"],[0.1111111111111111,\"#46039f\"],[0.2222222222222222,\"#7201a8\"],[0.3333333333333333,\"#9c179e\"],[0.4444444444444444,\"#bd3786\"],[0.5555555555555556,\"#d8576b\"],[0.6666666666666666,\"#ed7953\"],[0.7777777777777778,\"#fb9f3a\"],[0.8888888888888888,\"#fdca26\"],[1.0,\"#f0f921\"]]}],\"mesh3d\":[{\"type\":\"mesh3d\",\"colorbar\":{\"outlinewidth\":0,\"ticks\":\"\"}}],\"scatter\":[{\"fillpattern\":{\"fillmode\":\"overlay\",\"size\":10,\"solidity\":0.2},\"type\":\"scatter\"}],\"parcoords\":[{\"type\":\"parcoords\",\"line\":{\"colorbar\":{\"outlinewidth\":0,\"ticks\":\"\"}}}],\"scatterpolargl\":[{\"type\":\"scatterpolargl\",\"marker\":{\"colorbar\":{\"outlinewidth\":0,\"ticks\":\"\"}}}],\"bar\":[{\"error_x\":{\"color\":\"#2a3f5f\"},\"error_y\":{\"color\":\"#2a3f5f\"},\"marker\":{\"line\":{\"color\":\"#E5ECF6\",\"width\":0.5},\"pattern\":{\"fillmode\":\"overlay\",\"size\":10,\"solidity\":0.2}},\"type\":\"bar\"}],\"scattergeo\":[{\"type\":\"scattergeo\",\"marker\":{\"colorbar\":{\"outlinewidth\":0,\"ticks\":\"\"}}}],\"scatterpolar\":[{\"type\":\"scatterpolar\",\"marker\":{\"colorbar\":{\"outlinewidth\":0,\"ticks\":\"\"}}}],\"histogram\":[{\"marker\":{\"pattern\":{\"fillmode\":\"overlay\",\"size\":10,\"solidity\":0.2}},\"type\":\"histogram\"}],\"scattergl\":[{\"type\":\"scattergl\",\"marker\":{\"colorbar\":{\"outlinewidth\":0,\"ticks\":\"\"}}}],\"scatter3d\":[{\"type\":\"scatter3d\",\"line\":{\"colorbar\":{\"outlinewidth\":0,\"ticks\":\"\"}},\"marker\":{\"colorbar\":{\"outlinewidth\":0,\"ticks\":\"\"}}}],\"scattermapbox\":[{\"type\":\"scattermapbox\",\"marker\":{\"colorbar\":{\"outlinewidth\":0,\"ticks\":\"\"}}}],\"scatterternary\":[{\"type\":\"scatterternary\",\"marker\":{\"colorbar\":{\"outlinewidth\":0,\"ticks\":\"\"}}}],\"scattercarpet\":[{\"type\":\"scattercarpet\",\"marker\":{\"colorbar\":{\"outlinewidth\":0,\"ticks\":\"\"}}}],\"carpet\":[{\"aaxis\":{\"endlinecolor\":\"#2a3f5f\",\"gridcolor\":\"white\",\"linecolor\":\"white\",\"minorgridcolor\":\"white\",\"startlinecolor\":\"#2a3f5f\"},\"baxis\":{\"endlinecolor\":\"#2a3f5f\",\"gridcolor\":\"white\",\"linecolor\":\"white\",\"minorgridcolor\":\"white\",\"startlinecolor\":\"#2a3f5f\"},\"type\":\"carpet\"}],\"table\":[{\"cells\":{\"fill\":{\"color\":\"#EBF0F8\"},\"line\":{\"color\":\"white\"}},\"header\":{\"fill\":{\"color\":\"#C8D4E3\"},\"line\":{\"color\":\"white\"}},\"type\":\"table\"}],\"barpolar\":[{\"marker\":{\"line\":{\"color\":\"#E5ECF6\",\"width\":0.5},\"pattern\":{\"fillmode\":\"overlay\",\"size\":10,\"solidity\":0.2}},\"type\":\"barpolar\"}],\"pie\":[{\"automargin\":true,\"type\":\"pie\"}]},\"layout\":{\"autotypenumbers\":\"strict\",\"colorway\":[\"#636efa\",\"#EF553B\",\"#00cc96\",\"#ab63fa\",\"#FFA15A\",\"#19d3f3\",\"#FF6692\",\"#B6E880\",\"#FF97FF\",\"#FECB52\"],\"font\":{\"color\":\"#2a3f5f\"},\"hovermode\":\"closest\",\"hoverlabel\":{\"align\":\"left\"},\"paper_bgcolor\":\"white\",\"plot_bgcolor\":\"#E5ECF6\",\"polar\":{\"bgcolor\":\"#E5ECF6\",\"angularaxis\":{\"gridcolor\":\"white\",\"linecolor\":\"white\",\"ticks\":\"\"},\"radialaxis\":{\"gridcolor\":\"white\",\"linecolor\":\"white\",\"ticks\":\"\"}},\"ternary\":{\"bgcolor\":\"#E5ECF6\",\"aaxis\":{\"gridcolor\":\"white\",\"linecolor\":\"white\",\"ticks\":\"\"},\"baxis\":{\"gridcolor\":\"white\",\"linecolor\":\"white\",\"ticks\":\"\"},\"caxis\":{\"gridcolor\":\"white\",\"linecolor\":\"white\",\"ticks\":\"\"}},\"coloraxis\":{\"colorbar\":{\"outlinewidth\":0,\"ticks\":\"\"}},\"colorscale\":{\"sequential\":[[0.0,\"#0d0887\"],[0.1111111111111111,\"#46039f\"],[0.2222222222222222,\"#7201a8\"],[0.3333333333333333,\"#9c179e\"],[0.4444444444444444,\"#bd3786\"],[0.5555555555555556,\"#d8576b\"],[0.6666666666666666,\"#ed7953\"],[0.7777777777777778,\"#fb9f3a\"],[0.8888888888888888,\"#fdca26\"],[1.0,\"#f0f921\"]],\"sequentialminus\":[[0.0,\"#0d0887\"],[0.1111111111111111,\"#46039f\"],[0.2222222222222222,\"#7201a8\"],[0.3333333333333333,\"#9c179e\"],[0.4444444444444444,\"#bd3786\"],[0.5555555555555556,\"#d8576b\"],[0.6666666666666666,\"#ed7953\"],[0.7777777777777778,\"#fb9f3a\"],[0.8888888888888888,\"#fdca26\"],[1.0,\"#f0f921\"]],\"diverging\":[[0,\"#8e0152\"],[0.1,\"#c51b7d\"],[0.2,\"#de77ae\"],[0.3,\"#f1b6da\"],[0.4,\"#fde0ef\"],[0.5,\"#f7f7f7\"],[0.6,\"#e6f5d0\"],[0.7,\"#b8e186\"],[0.8,\"#7fbc41\"],[0.9,\"#4d9221\"],[1,\"#276419\"]]},\"xaxis\":{\"gridcolor\":\"white\",\"linecolor\":\"white\",\"ticks\":\"\",\"title\":{\"standoff\":15},\"zerolinecolor\":\"white\",\"automargin\":true,\"zerolinewidth\":2},\"yaxis\":{\"gridcolor\":\"white\",\"linecolor\":\"white\",\"ticks\":\"\",\"title\":{\"standoff\":15},\"zerolinecolor\":\"white\",\"automargin\":true,\"zerolinewidth\":2},\"scene\":{\"xaxis\":{\"backgroundcolor\":\"#E5ECF6\",\"gridcolor\":\"white\",\"linecolor\":\"white\",\"showbackground\":true,\"ticks\":\"\",\"zerolinecolor\":\"white\",\"gridwidth\":2},\"yaxis\":{\"backgroundcolor\":\"#E5ECF6\",\"gridcolor\":\"white\",\"linecolor\":\"white\",\"showbackground\":true,\"ticks\":\"\",\"zerolinecolor\":\"white\",\"gridwidth\":2},\"zaxis\":{\"backgroundcolor\":\"#E5ECF6\",\"gridcolor\":\"white\",\"linecolor\":\"white\",\"showbackground\":true,\"ticks\":\"\",\"zerolinecolor\":\"white\",\"gridwidth\":2}},\"shapedefaults\":{\"line\":{\"color\":\"#2a3f5f\"}},\"annotationdefaults\":{\"arrowcolor\":\"#2a3f5f\",\"arrowhead\":0,\"arrowwidth\":1},\"geo\":{\"bgcolor\":\"white\",\"landcolor\":\"#E5ECF6\",\"subunitcolor\":\"white\",\"showland\":true,\"showlakes\":true,\"lakecolor\":\"white\"},\"title\":{\"x\":0.05},\"mapbox\":{\"style\":\"light\"}}},\"xaxis\":{\"anchor\":\"y\",\"domain\":[0.0,1.0],\"title\":{\"text\":\"Status\"}},\"yaxis\":{\"anchor\":\"x\",\"domain\":[0.0,1.0],\"title\":{\"text\":\"Count\"}},\"legend\":{\"tracegroupgap\":0},\"title\":{\"text\":\"Interactive Bar Chart: Distribution of Status\"},\"barmode\":\"relative\"},                        {\"responsive\": true}                    ).then(function(){\n",
              "                            \n",
              "var gd = document.getElementById('0136d96e-e876-460d-9ed0-5b814053e8c8');\n",
              "var x = new MutationObserver(function (mutations, observer) {{\n",
              "        var display = window.getComputedStyle(gd).display;\n",
              "        if (!display || display === 'none') {{\n",
              "            console.log([gd, 'removed!']);\n",
              "            Plotly.purge(gd);\n",
              "            observer.disconnect();\n",
              "        }}\n",
              "}});\n",
              "\n",
              "// Listen for the removal of the full notebook cells\n",
              "var notebookContainer = gd.closest('#notebook-container');\n",
              "if (notebookContainer) {{\n",
              "    x.observe(notebookContainer, {childList: true});\n",
              "}}\n",
              "\n",
              "// Listen for the clearing of the current output cell\n",
              "var outputEl = gd.closest('.output');\n",
              "if (outputEl) {{\n",
              "    x.observe(outputEl, {childList: true});\n",
              "}}\n",
              "\n",
              "                        })                };                            </script>        </div>\n",
              "</body>\n",
              "</html>"
            ]
          },
          "metadata": {}
        }
      ],
      "source": [
        "fig = px.bar(df['status'].value_counts(), x=df['status'].value_counts().index, y=df['status'].value_counts().values,\n",
        "             labels={'x': 'Status', 'y': 'Count'}, title='Interactive Bar Chart: Distribution of Status')\n",
        "fig.show()"
      ]
    },
    {
      "cell_type": "markdown",
      "source": [
        "**Histogram**"
      ],
      "metadata": {
        "id": "IqV3CrIglEH6"
      }
    },
    {
      "cell_type": "code",
      "execution_count": null,
      "metadata": {
        "id": "AzWUpldbT5GY"
      },
      "outputs": [],
      "source": [
        "# Create an interactive histogram with Plotly\n",
        "fig = px.histogram(df, x='price', nbins=10, title='Interactive Histogram: Distribution of Price')\n",
        "fig.update_layout(\n",
        "    xaxis_title='Price',\n",
        "    yaxis_title='Frequency',\n",
        ")\n",
        "fig.show()"
      ]
    },
    {
      "cell_type": "markdown",
      "source": [
        "**Line Graph📈**"
      ],
      "metadata": {
        "id": "hbd18bWklLlR"
      }
    },
    {
      "cell_type": "code",
      "execution_count": null,
      "metadata": {
        "colab": {
          "base_uri": "https://localhost:8080/",
          "height": 542
        },
        "id": "a44OTwVGUpfv",
        "outputId": "81077a44-f717-45d0-fd9e-55ed3543ecab"
      },
      "outputs": [
        {
          "output_type": "display_data",
          "data": {
            "text/html": [
              "<html>\n",
              "<head><meta charset=\"utf-8\" /></head>\n",
              "<body>\n",
              "    <div>            <script src=\"https://cdnjs.cloudflare.com/ajax/libs/mathjax/2.7.5/MathJax.js?config=TeX-AMS-MML_SVG\"></script><script type=\"text/javascript\">if (window.MathJax && window.MathJax.Hub && window.MathJax.Hub.Config) {window.MathJax.Hub.Config({SVG: {font: \"STIX-Web\"}});}</script>                <script type=\"text/javascript\">window.PlotlyConfig = {MathJaxConfig: 'local'};</script>\n",
              "        <script charset=\"utf-8\" src=\"https://cdn.plot.ly/plotly-2.24.1.min.js\"></script>                <div id=\"085dbb45-c6c7-4b92-a82b-d8c1d8e7a463\" class=\"plotly-graph-div\" style=\"height:525px; width:100%;\"></div>            <script type=\"text/javascript\">                                    window.PLOTLYENV=window.PLOTLYENV || {};                                    if (document.getElementById(\"085dbb45-c6c7-4b92-a82b-d8c1d8e7a463\")) {                    Plotly.newPlot(                        \"085dbb45-c6c7-4b92-a82b-d8c1d8e7a463\",                        [{\"hovertemplate\":\"Year=%{x}\\u003cbr\\u003ecount=%{y}\\u003cextra\\u003e\\u003c\\u002fextra\\u003e\",\"legendgroup\":\"\",\"line\":{\"color\":\"#636efa\",\"dash\":\"solid\"},\"marker\":{\"symbol\":\"circle\"},\"mode\":\"lines\",\"name\":\"\",\"orientation\":\"v\",\"showlegend\":false,\"x\":[2016.0,2017.0,2018.0],\"xaxis\":\"x\",\"y\":[133909,754971,159695],\"yaxis\":\"y\",\"type\":\"scatter\"}],                        {\"template\":{\"data\":{\"histogram2dcontour\":[{\"type\":\"histogram2dcontour\",\"colorbar\":{\"outlinewidth\":0,\"ticks\":\"\"},\"colorscale\":[[0.0,\"#0d0887\"],[0.1111111111111111,\"#46039f\"],[0.2222222222222222,\"#7201a8\"],[0.3333333333333333,\"#9c179e\"],[0.4444444444444444,\"#bd3786\"],[0.5555555555555556,\"#d8576b\"],[0.6666666666666666,\"#ed7953\"],[0.7777777777777778,\"#fb9f3a\"],[0.8888888888888888,\"#fdca26\"],[1.0,\"#f0f921\"]]}],\"choropleth\":[{\"type\":\"choropleth\",\"colorbar\":{\"outlinewidth\":0,\"ticks\":\"\"}}],\"histogram2d\":[{\"type\":\"histogram2d\",\"colorbar\":{\"outlinewidth\":0,\"ticks\":\"\"},\"colorscale\":[[0.0,\"#0d0887\"],[0.1111111111111111,\"#46039f\"],[0.2222222222222222,\"#7201a8\"],[0.3333333333333333,\"#9c179e\"],[0.4444444444444444,\"#bd3786\"],[0.5555555555555556,\"#d8576b\"],[0.6666666666666666,\"#ed7953\"],[0.7777777777777778,\"#fb9f3a\"],[0.8888888888888888,\"#fdca26\"],[1.0,\"#f0f921\"]]}],\"heatmap\":[{\"type\":\"heatmap\",\"colorbar\":{\"outlinewidth\":0,\"ticks\":\"\"},\"colorscale\":[[0.0,\"#0d0887\"],[0.1111111111111111,\"#46039f\"],[0.2222222222222222,\"#7201a8\"],[0.3333333333333333,\"#9c179e\"],[0.4444444444444444,\"#bd3786\"],[0.5555555555555556,\"#d8576b\"],[0.6666666666666666,\"#ed7953\"],[0.7777777777777778,\"#fb9f3a\"],[0.8888888888888888,\"#fdca26\"],[1.0,\"#f0f921\"]]}],\"heatmapgl\":[{\"type\":\"heatmapgl\",\"colorbar\":{\"outlinewidth\":0,\"ticks\":\"\"},\"colorscale\":[[0.0,\"#0d0887\"],[0.1111111111111111,\"#46039f\"],[0.2222222222222222,\"#7201a8\"],[0.3333333333333333,\"#9c179e\"],[0.4444444444444444,\"#bd3786\"],[0.5555555555555556,\"#d8576b\"],[0.6666666666666666,\"#ed7953\"],[0.7777777777777778,\"#fb9f3a\"],[0.8888888888888888,\"#fdca26\"],[1.0,\"#f0f921\"]]}],\"contourcarpet\":[{\"type\":\"contourcarpet\",\"colorbar\":{\"outlinewidth\":0,\"ticks\":\"\"}}],\"contour\":[{\"type\":\"contour\",\"colorbar\":{\"outlinewidth\":0,\"ticks\":\"\"},\"colorscale\":[[0.0,\"#0d0887\"],[0.1111111111111111,\"#46039f\"],[0.2222222222222222,\"#7201a8\"],[0.3333333333333333,\"#9c179e\"],[0.4444444444444444,\"#bd3786\"],[0.5555555555555556,\"#d8576b\"],[0.6666666666666666,\"#ed7953\"],[0.7777777777777778,\"#fb9f3a\"],[0.8888888888888888,\"#fdca26\"],[1.0,\"#f0f921\"]]}],\"surface\":[{\"type\":\"surface\",\"colorbar\":{\"outlinewidth\":0,\"ticks\":\"\"},\"colorscale\":[[0.0,\"#0d0887\"],[0.1111111111111111,\"#46039f\"],[0.2222222222222222,\"#7201a8\"],[0.3333333333333333,\"#9c179e\"],[0.4444444444444444,\"#bd3786\"],[0.5555555555555556,\"#d8576b\"],[0.6666666666666666,\"#ed7953\"],[0.7777777777777778,\"#fb9f3a\"],[0.8888888888888888,\"#fdca26\"],[1.0,\"#f0f921\"]]}],\"mesh3d\":[{\"type\":\"mesh3d\",\"colorbar\":{\"outlinewidth\":0,\"ticks\":\"\"}}],\"scatter\":[{\"fillpattern\":{\"fillmode\":\"overlay\",\"size\":10,\"solidity\":0.2},\"type\":\"scatter\"}],\"parcoords\":[{\"type\":\"parcoords\",\"line\":{\"colorbar\":{\"outlinewidth\":0,\"ticks\":\"\"}}}],\"scatterpolargl\":[{\"type\":\"scatterpolargl\",\"marker\":{\"colorbar\":{\"outlinewidth\":0,\"ticks\":\"\"}}}],\"bar\":[{\"error_x\":{\"color\":\"#2a3f5f\"},\"error_y\":{\"color\":\"#2a3f5f\"},\"marker\":{\"line\":{\"color\":\"#E5ECF6\",\"width\":0.5},\"pattern\":{\"fillmode\":\"overlay\",\"size\":10,\"solidity\":0.2}},\"type\":\"bar\"}],\"scattergeo\":[{\"type\":\"scattergeo\",\"marker\":{\"colorbar\":{\"outlinewidth\":0,\"ticks\":\"\"}}}],\"scatterpolar\":[{\"type\":\"scatterpolar\",\"marker\":{\"colorbar\":{\"outlinewidth\":0,\"ticks\":\"\"}}}],\"histogram\":[{\"marker\":{\"pattern\":{\"fillmode\":\"overlay\",\"size\":10,\"solidity\":0.2}},\"type\":\"histogram\"}],\"scattergl\":[{\"type\":\"scattergl\",\"marker\":{\"colorbar\":{\"outlinewidth\":0,\"ticks\":\"\"}}}],\"scatter3d\":[{\"type\":\"scatter3d\",\"line\":{\"colorbar\":{\"outlinewidth\":0,\"ticks\":\"\"}},\"marker\":{\"colorbar\":{\"outlinewidth\":0,\"ticks\":\"\"}}}],\"scattermapbox\":[{\"type\":\"scattermapbox\",\"marker\":{\"colorbar\":{\"outlinewidth\":0,\"ticks\":\"\"}}}],\"scatterternary\":[{\"type\":\"scatterternary\",\"marker\":{\"colorbar\":{\"outlinewidth\":0,\"ticks\":\"\"}}}],\"scattercarpet\":[{\"type\":\"scattercarpet\",\"marker\":{\"colorbar\":{\"outlinewidth\":0,\"ticks\":\"\"}}}],\"carpet\":[{\"aaxis\":{\"endlinecolor\":\"#2a3f5f\",\"gridcolor\":\"white\",\"linecolor\":\"white\",\"minorgridcolor\":\"white\",\"startlinecolor\":\"#2a3f5f\"},\"baxis\":{\"endlinecolor\":\"#2a3f5f\",\"gridcolor\":\"white\",\"linecolor\":\"white\",\"minorgridcolor\":\"white\",\"startlinecolor\":\"#2a3f5f\"},\"type\":\"carpet\"}],\"table\":[{\"cells\":{\"fill\":{\"color\":\"#EBF0F8\"},\"line\":{\"color\":\"white\"}},\"header\":{\"fill\":{\"color\":\"#C8D4E3\"},\"line\":{\"color\":\"white\"}},\"type\":\"table\"}],\"barpolar\":[{\"marker\":{\"line\":{\"color\":\"#E5ECF6\",\"width\":0.5},\"pattern\":{\"fillmode\":\"overlay\",\"size\":10,\"solidity\":0.2}},\"type\":\"barpolar\"}],\"pie\":[{\"automargin\":true,\"type\":\"pie\"}]},\"layout\":{\"autotypenumbers\":\"strict\",\"colorway\":[\"#636efa\",\"#EF553B\",\"#00cc96\",\"#ab63fa\",\"#FFA15A\",\"#19d3f3\",\"#FF6692\",\"#B6E880\",\"#FF97FF\",\"#FECB52\"],\"font\":{\"color\":\"#2a3f5f\"},\"hovermode\":\"closest\",\"hoverlabel\":{\"align\":\"left\"},\"paper_bgcolor\":\"white\",\"plot_bgcolor\":\"#E5ECF6\",\"polar\":{\"bgcolor\":\"#E5ECF6\",\"angularaxis\":{\"gridcolor\":\"white\",\"linecolor\":\"white\",\"ticks\":\"\"},\"radialaxis\":{\"gridcolor\":\"white\",\"linecolor\":\"white\",\"ticks\":\"\"}},\"ternary\":{\"bgcolor\":\"#E5ECF6\",\"aaxis\":{\"gridcolor\":\"white\",\"linecolor\":\"white\",\"ticks\":\"\"},\"baxis\":{\"gridcolor\":\"white\",\"linecolor\":\"white\",\"ticks\":\"\"},\"caxis\":{\"gridcolor\":\"white\",\"linecolor\":\"white\",\"ticks\":\"\"}},\"coloraxis\":{\"colorbar\":{\"outlinewidth\":0,\"ticks\":\"\"}},\"colorscale\":{\"sequential\":[[0.0,\"#0d0887\"],[0.1111111111111111,\"#46039f\"],[0.2222222222222222,\"#7201a8\"],[0.3333333333333333,\"#9c179e\"],[0.4444444444444444,\"#bd3786\"],[0.5555555555555556,\"#d8576b\"],[0.6666666666666666,\"#ed7953\"],[0.7777777777777778,\"#fb9f3a\"],[0.8888888888888888,\"#fdca26\"],[1.0,\"#f0f921\"]],\"sequentialminus\":[[0.0,\"#0d0887\"],[0.1111111111111111,\"#46039f\"],[0.2222222222222222,\"#7201a8\"],[0.3333333333333333,\"#9c179e\"],[0.4444444444444444,\"#bd3786\"],[0.5555555555555556,\"#d8576b\"],[0.6666666666666666,\"#ed7953\"],[0.7777777777777778,\"#fb9f3a\"],[0.8888888888888888,\"#fdca26\"],[1.0,\"#f0f921\"]],\"diverging\":[[0,\"#8e0152\"],[0.1,\"#c51b7d\"],[0.2,\"#de77ae\"],[0.3,\"#f1b6da\"],[0.4,\"#fde0ef\"],[0.5,\"#f7f7f7\"],[0.6,\"#e6f5d0\"],[0.7,\"#b8e186\"],[0.8,\"#7fbc41\"],[0.9,\"#4d9221\"],[1,\"#276419\"]]},\"xaxis\":{\"gridcolor\":\"white\",\"linecolor\":\"white\",\"ticks\":\"\",\"title\":{\"standoff\":15},\"zerolinecolor\":\"white\",\"automargin\":true,\"zerolinewidth\":2},\"yaxis\":{\"gridcolor\":\"white\",\"linecolor\":\"white\",\"ticks\":\"\",\"title\":{\"standoff\":15},\"zerolinecolor\":\"white\",\"automargin\":true,\"zerolinewidth\":2},\"scene\":{\"xaxis\":{\"backgroundcolor\":\"#E5ECF6\",\"gridcolor\":\"white\",\"linecolor\":\"white\",\"showbackground\":true,\"ticks\":\"\",\"zerolinecolor\":\"white\",\"gridwidth\":2},\"yaxis\":{\"backgroundcolor\":\"#E5ECF6\",\"gridcolor\":\"white\",\"linecolor\":\"white\",\"showbackground\":true,\"ticks\":\"\",\"zerolinecolor\":\"white\",\"gridwidth\":2},\"zaxis\":{\"backgroundcolor\":\"#E5ECF6\",\"gridcolor\":\"white\",\"linecolor\":\"white\",\"showbackground\":true,\"ticks\":\"\",\"zerolinecolor\":\"white\",\"gridwidth\":2}},\"shapedefaults\":{\"line\":{\"color\":\"#2a3f5f\"}},\"annotationdefaults\":{\"arrowcolor\":\"#2a3f5f\",\"arrowhead\":0,\"arrowwidth\":1},\"geo\":{\"bgcolor\":\"white\",\"landcolor\":\"#E5ECF6\",\"subunitcolor\":\"white\",\"showland\":true,\"showlakes\":true,\"lakecolor\":\"white\"},\"title\":{\"x\":0.05},\"mapbox\":{\"style\":\"light\"}}},\"xaxis\":{\"anchor\":\"y\",\"domain\":[0.0,1.0],\"title\":{\"text\":\"Year\"}},\"yaxis\":{\"anchor\":\"x\",\"domain\":[0.0,1.0],\"title\":{\"text\":\"Number of Items\"}},\"legend\":{\"tracegroupgap\":0},\"title\":{\"text\":\"Interactive Line Plot: Number of Items Created Over Time\"}},                        {\"responsive\": true}                    ).then(function(){\n",
              "                            \n",
              "var gd = document.getElementById('085dbb45-c6c7-4b92-a82b-d8c1d8e7a463');\n",
              "var x = new MutationObserver(function (mutations, observer) {{\n",
              "        var display = window.getComputedStyle(gd).display;\n",
              "        if (!display || display === 'none') {{\n",
              "            console.log([gd, 'removed!']);\n",
              "            Plotly.purge(gd);\n",
              "            observer.disconnect();\n",
              "        }}\n",
              "}});\n",
              "\n",
              "// Listen for the removal of the full notebook cells\n",
              "var notebookContainer = gd.closest('#notebook-container');\n",
              "if (notebookContainer) {{\n",
              "    x.observe(notebookContainer, {childList: true});\n",
              "}}\n",
              "\n",
              "// Listen for the clearing of the current output cell\n",
              "var outputEl = gd.closest('.output');\n",
              "if (outputEl) {{\n",
              "    x.observe(outputEl, {childList: true});\n",
              "}}\n",
              "\n",
              "                        })                };                            </script>        </div>\n",
              "</body>\n",
              "</html>"
            ]
          },
          "metadata": {}
        }
      ],
      "source": [
        "df_grouped = df.groupby('Year').size().reset_index(name='count')\n",
        "\n",
        "# Create an interactive line plot with Plotly\n",
        "fig = px.line(df_grouped, x='Year', y='count', title='Interactive Line Plot: Number of Items Created Over Time')\n",
        "fig.update_layout(\n",
        "    xaxis_title='Year',\n",
        "    yaxis_title='Number of Items',\n",
        ")\n",
        "fig.show()"
      ]
    },
    {
      "cell_type": "markdown",
      "source": [
        "**Box Plot**"
      ],
      "metadata": {
        "id": "wKi7D8y3mKwm"
      }
    },
    {
      "cell_type": "code",
      "execution_count": null,
      "metadata": {
        "colab": {
          "base_uri": "https://localhost:8080/",
          "height": 545
        },
        "id": "brdrS9WnUprS",
        "outputId": "09ff3efe-cd09-4067-b011-d36025f775a8"
      },
      "outputs": [
        {
          "output_type": "display_data",
          "data": {
            "text/plain": [
              "<Figure size 800x600 with 1 Axes>"
            ],
            "image/png": "[encoded data removed]"
          },
          "metadata": {}
        }
      ],
      "source": [
        "# Example for 'grand_total' column\n",
        "plt.figure(figsize=(8, 6))\n",
        "plt.boxplot(df['grand_total'])\n",
        "plt.title('Box Plot of Grand Total')\n",
        "plt.ylabel('Grand Total')\n",
        "plt.show()\n"
      ]
    },
    {
      "cell_type": "markdown",
      "source": [
        "**Scater Plot**"
      ],
      "metadata": {
        "id": "Kii1tXdAmPeU"
      }
    },
    {
      "cell_type": "code",
      "execution_count": null,
      "metadata": {
        "id": "eGAk3DEtVcmP"
      },
      "outputs": [],
      "source": [
        "\n",
        "fig = px.scatter(df, x='qty_ordered', y='price', title='Interactive Scatter Plot: Quantity vs. Price')\n",
        "fig.update_traces(marker=dict(size=12, opacity=0.6), selector=dict(mode='markers'))\n",
        "fig.update_layout(\n",
        "    xaxis_title='Quantity',\n",
        "    yaxis_title='Price',\n",
        "    hovermode='closest'\n",
        ")\n",
        "fig.show()\n"
      ]
    },
    {
      "cell_type": "code",
      "execution_count": null,
      "metadata": {
        "id": "rn1DOPfKXUlK"
      },
      "outputs": [],
      "source": [
        "\n",
        "fig = px.scatter(df, x='discount_amount', y='price', title='Interactive Scatter Plot: Price vs. Discount')\n",
        "fig.update_traces(marker=dict(size=12, opacity=0.6), selector=dict(mode='markers'))\n",
        "fig.update_layout(\n",
        "    xaxis_title='Discount',\n",
        "    yaxis_title='Price',\n",
        "    hovermode='closest'\n",
        ")\n",
        "fig.show()"
      ]
    },
    {
      "cell_type": "markdown",
      "metadata": {
        "id": "3Agvvz7ryFo3"
      },
      "source": [
        "#**Label Encoding**"
      ]
    },
    {
      "cell_type": "code",
      "execution_count": null,
      "metadata": {
        "id": "79LZB9dPxkX1"
      },
      "outputs": [],
      "source": [
        "from sklearn.preprocessing import LabelEncoder"
      ]
    },
    {
      "cell_type": "code",
      "execution_count": null,
      "metadata": {
        "colab": {
          "base_uri": "https://localhost:8080/"
        },
        "id": "zVYRwAubxexB",
        "outputId": "5be2fde0-5a26-49f2-c3aa-810b14748d18"
      },
      "outputs": [
        {
          "output_type": "stream",
          "name": "stdout",
          "text": [
            "Mapping for 'Payment method' column:\n",
            "{'Easypay': 0, 'Easypay_MA': 1, 'Payaxis': 2, 'apg': 3, 'bankalfalah': 4, 'cashatdoorstep': 5, 'cod': 6, 'customercredit': 7, 'easypay_voucher': 8, 'financesettlement': 9, 'internetbanking': 10, 'jazzvoucher': 11, 'jazzwallet': 12, 'marketingexpense': 13, 'mcblite': 14, 'mygateway': 15, 'productcredit': 16, 'ublcreditcard': 17}\n",
            "\n",
            "Mapping for 'category_name_1' column:\n",
            "{'Appliances': 0, 'Beauty & Grooming': 1, 'Books': 2, 'Computing': 3, 'Entertainment': 4, 'Health & Sports': 5, 'Home & Living': 6, 'Kids & Baby': 7, \"Men's Fashion\": 8, 'Mobiles & Tablets': 9, 'Others': 10, 'School & Education': 11, 'Soghaat': 12, 'Superstore': 13, \"Women's Fashion\": 14, '\\\\N': 15}\n",
            "\n",
            "Mapping for 'status' column:\n",
            "{'\\\\N': 0, 'canceled': 1, 'closed': 2, 'cod': 3, 'complete': 4, 'exchange': 5, 'fraud': 6, 'holded': 7, 'order_refunded': 8, 'paid': 9, 'payment_review': 10, 'pending': 11, 'pending_paypal': 12, 'processing': 13, 'received': 14, 'refund': 15}\n"
          ]
        }
      ],
      "source": [
        "label_encoder = LabelEncoder()\n",
        "\n",
        "df['Payment_method_encoded'] = label_encoder.fit_transform(df['payment_method'])\n",
        "\n",
        "Payment_method_mapping= dict(zip(label_encoder.classes_, label_encoder.transform(label_encoder.classes_)))\n",
        "\n",
        "# Encode 'category_name_1' column\n",
        "df['category_name_1_encoded'] = label_encoder.fit_transform(df['category_name_1'])\n",
        "\n",
        "# Create a mapping dictionary for 'category_name_1'\n",
        "category_name_1_mapping = dict(zip(label_encoder.classes_, label_encoder.transform(label_encoder.classes_)))\n",
        "\n",
        "# Encode 'status' column\n",
        "df['status_encoded'] = label_encoder.fit_transform(df['status'])\n",
        "\n",
        "# Create a mapping dictionary for 'status'\n",
        "status_mapping = dict(zip(label_encoder.classes_, label_encoder.transform(label_encoder.classes_)))\n",
        "\n",
        "# Print the mapping dictionaries\n",
        "print(\"Mapping for 'Payment method' column:\")\n",
        "print(Payment_method_mapping)\n",
        "\n",
        "print(\"\\nMapping for 'category_name_1' column:\")\n",
        "print(category_name_1_mapping)\n",
        "\n",
        "print(\"\\nMapping for 'status' column:\")\n",
        "print(status_mapping)"
      ]
    },
    {
      "cell_type": "code",
      "execution_count": null,
      "metadata": {
        "colab": {
          "base_uri": "https://localhost:8080/"
        },
        "id": "YRj4t0tPxzW9",
        "outputId": "5851c113-1a08-42b9-f85a-5e172ca1d4c7"
      },
      "outputs": [
        {
          "output_type": "stream",
          "name": "stdout",
          "text": [
            "\n",
            "DataFrame with encoded columns:\n",
            "     category_name_1  category_name_1_encoded          status  status_encoded  \\\n",
            "0    Women's Fashion                       14        complete               4   \n",
            "1  Beauty & Grooming                        1        canceled               1   \n",
            "2    Women's Fashion                       14        canceled               1   \n",
            "3  Beauty & Grooming                        1        complete               4   \n",
            "4            Soghaat                       12  order_refunded               8   \n",
            "\n",
            "  payment_method  Payment_method_encoded  \n",
            "0            cod                       6  \n",
            "1            cod                       6  \n",
            "2            cod                       6  \n",
            "3            cod                       6  \n",
            "4            cod                       6  \n"
          ]
        }
      ],
      "source": [
        "# Display the DataFrame with encoded columns\n",
        "print(\"\\nDataFrame with encoded columns:\")\n",
        "print(df[['category_name_1', 'category_name_1_encoded', 'status', 'status_encoded',\"payment_method\",\"Payment_method_encoded\"]].head())"
      ]
    },
    {
      "cell_type": "markdown",
      "metadata": {
        "id": "hJAO_lwhqa87"
      },
      "source": [
        "#**Correlation**"
      ]
    },
    {
      "cell_type": "code",
      "execution_count": null,
      "metadata": {
        "id": "iVr41SWorJFw"
      },
      "outputs": [],
      "source": [
        "import numpy as np\n",
        "import seaborn as sns\n",
        "import matplotlib.pyplot as plt"
      ]
    },
    {
      "cell_type": "code",
      "execution_count": null,
      "metadata": {
        "colab": {
          "base_uri": "https://localhost:8080/",
          "height": 721
        },
        "id": "mak3vOgQqjMw",
        "outputId": "a6360dd0-0114-4a95-f2d4-57d299dc7be8"
      },
      "outputs": [
        {
          "output_type": "display_data",
          "data": {
            "text/plain": [
              "<Figure size 800x600 with 2 Axes>"
            ],
            "image/png": "[encoded data removed]"
          },
          "metadata": {}
        }
      ],
      "source": [
        "numerical_columns = df.select_dtypes(include=[np.number]).columns\n",
        "df_numerical = df[numerical_columns]\n",
        "\n",
        "# Calculate correlation matrix for numerical columns\n",
        "correlation_matrix = df_numerical.corr()\n",
        "\n",
        "# Plot correlation matrix using Seaborn heatmap\n",
        "plt.figure(figsize=(8, 6))\n",
        "sns.heatmap(correlation_matrix, annot=True, cmap='coolwarm', fmt=\".2f\")\n",
        "plt.title('Correlation Matrix (Numerical Columns)')\n",
        "plt.show()"
      ]
    },
    {
      "cell_type": "markdown",
      "source": [
        "**Dropping Highly correlated Columns**"
      ],
      "metadata": {
        "id": "WFVqtxuAnCd7"
      }
    },
    {
      "cell_type": "code",
      "execution_count": null,
      "metadata": {
        "colab": {
          "base_uri": "https://localhost:8080/"
        },
        "id": "iN30FUUGvxqT",
        "outputId": "9cab5761-4aad-42be-a5bb-2f320a23829d"
      },
      "outputs": [
        {
          "output_type": "stream",
          "name": "stdout",
          "text": [
            "\n",
            "Dropped Columns and Their Related Columns:\n",
            "item_id: Year\n",
            "\n",
            "Columns Left:\n",
            "['status', 'created_at', 'sku', 'price', 'qty_ordered', 'grand_total', 'increment_id', 'category_name_1', 'sales_commission_code', 'discount_amount', 'payment_method', 'Working Date', 'BI Status', ' MV ', 'Year', 'Month', 'Customer Since', 'M-Y', 'FY', 'Customer ID', 'Day', 'Payment_method_encoded', 'category_name_1_encoded', 'status_encoded']\n"
          ]
        }
      ],
      "source": [
        "correlation_matrix = df_numerical.corr()\n",
        "\n",
        "# Find columns to drop based on correlation threshold and their related columns\n",
        "to_drop = []\n",
        "related_columns = {}\n",
        "for i in range(len(correlation_matrix.columns)):\n",
        "    for j in range(i+1, len(correlation_matrix.columns)):\n",
        "        if abs(correlation_matrix.iloc[i, j]) > 0.8:\n",
        "            col1 = correlation_matrix.columns[i]\n",
        "            col2 = correlation_matrix.columns[j]\n",
        "            if col1 not in to_drop:\n",
        "                to_drop.append(col1)\n",
        "                related_columns[col1] = [col2]\n",
        "            else:\n",
        "                related_columns[col1].append(col2)\n",
        "\n",
        "# Drop columns with correlation higher than 0.7\n",
        "df_new = df.drop(to_drop, axis=1)\n",
        "\n",
        "# Output the names of dropped columns and their related columns\n",
        "print(\"\\nDropped Columns and Their Related Columns:\")\n",
        "for col in to_drop:\n",
        "    print(f\"{col}: {', '.join(related_columns[col]) if col in related_columns else 'No related columns'}\")\n",
        "\n",
        "# Output the names of columns left\n",
        "print(\"\\nColumns Left:\")\n",
        "print(df_new.columns.to_list())"
      ]
    },
    {
      "cell_type": "markdown",
      "source": [
        "**More processing**"
      ],
      "metadata": {
        "id": "NkduNNItupmL"
      }
    },
    {
      "cell_type": "code",
      "execution_count": null,
      "metadata": {
        "colab": {
          "base_uri": "https://localhost:8080/"
        },
        "id": "Un1CQ1zCzHjH",
        "outputId": "6022ad07-3cc8-49b0-9d44-cf756acdf218"
      },
      "outputs": [
        {
          "output_type": "stream",
          "name": "stdout",
          "text": [
            "(1048575, 24)\n",
            "(1048575, 15)\n"
          ]
        }
      ],
      "source": [
        "print(df_new.shape)\n",
        "df_new = df_new.drop([\"status\",\"sku\",\"M-Y\", \"created_at\", \"category_name_1\", \"payment_method\", \"BI Status\", \"FY\", \"Customer Since\"], axis=1)\n",
        "print(df_new.shape)"
      ]
    },
    {
      "cell_type": "code",
      "execution_count": null,
      "metadata": {
        "id": "3E-dkZxV2vBA"
      },
      "outputs": [],
      "source": [
        "df_new = df_new.drop([\"sales_commission_code\",\"Working Date\"],axis=1)"
      ]
    },
    {
      "cell_type": "code",
      "execution_count": null,
      "metadata": {
        "id": "qh_xNk21B1Hk"
      },
      "outputs": [],
      "source": [
        "# df_new = df_new.drop([\"increment_id\"],axis=1)"
      ]
    },
    {
      "cell_type": "code",
      "execution_count": null,
      "metadata": {
        "colab": {
          "base_uri": "https://localhost:8080/",
          "height": 243
        },
        "id": "vmT8Yfnou_I1",
        "outputId": "698886c1-4c5f-4b20-875d-9d1279320c13"
      },
      "outputs": [
        {
          "output_type": "execute_result",
          "data": {
            "text/plain": [
              "    price  qty_ordered  grand_total increment_id  discount_amount      MV   \\\n",
              "0  1950.0          1.0       1950.0    100147443              0.0   1,950    \n",
              "1   240.0          1.0        240.0    100147444              0.0     240    \n",
              "2  2450.0          1.0       2450.0    100147445              0.0   2,450    \n",
              "3   360.0          1.0         60.0    100147446            300.0     360    \n",
              "4   555.0          2.0       1110.0    100147447              0.0   1,110    \n",
              "\n",
              "     Year  Month  Customer ID  Day  Payment_method_encoded  \\\n",
              "0  2016.0    7.0          1.0    1                       6   \n",
              "1  2016.0    7.0          2.0    1                       6   \n",
              "2  2016.0    7.0          3.0    1                       6   \n",
              "3  2016.0    7.0          4.0    1                       6   \n",
              "4  2016.0    7.0          5.0    1                       6   \n",
              "\n",
              "   category_name_1_encoded  status_encoded  \n",
              "0                       14               4  \n",
              "1                        1               1  \n",
              "2                       14               1  \n",
              "3                        1               4  \n",
              "4                       12               8  "
            ],
            "text/html": [
              "\n",
              "  <div id=\"df-7d8a4d82-e4cd-422e-82ae-b779b26f379e\" class=\"colab-df-container\">\n",
              "    <div>\n",
              "<style scoped>\n",
              "    .dataframe tbody tr th:only-of-type {\n",
              "        vertical-align: middle;\n",
              "    }\n",
              "\n",
              "    .dataframe tbody tr th {\n",
              "        vertical-align: top;\n",
              "    }\n",
              "\n",
              "    .dataframe thead th {\n",
              "        text-align: right;\n",
              "    }\n",
              "</style>\n",
              "<table border=\"1\" class=\"dataframe\">\n",
              "  <thead>\n",
              "    <tr style=\"text-align: right;\">\n",
              "      <th></th>\n",
              "      <th>price</th>\n",
              "      <th>qty_ordered</th>\n",
              "      <th>grand_total</th>\n",
              "      <th>increment_id</th>\n",
              "      <th>discount_amount</th>\n",
              "      <th>MV</th>\n",
              "      <th>Year</th>\n",
              "      <th>Month</th>\n",
              "      <th>Customer ID</th>\n",
              "      <th>Day</th>\n",
              "      <th>Payment_method_encoded</th>\n",
              "      <th>category_name_1_encoded</th>\n",
              "      <th>status_encoded</th>\n",
              "    </tr>\n",
              "  </thead>\n",
              "  <tbody>\n",
              "    <tr>\n",
              "      <th>0</th>\n",
              "      <td>1950.0</td>\n",
              "      <td>1.0</td>\n",
              "      <td>1950.0</td>\n",
              "      <td>100147443</td>\n",
              "      <td>0.0</td>\n",
              "      <td>1,950</td>\n",
              "      <td>2016.0</td>\n",
              "      <td>7.0</td>\n",
              "      <td>1.0</td>\n",
              "      <td>1</td>\n",
              "      <td>6</td>\n",
              "      <td>14</td>\n",
              "      <td>4</td>\n",
              "    </tr>\n",
              "    <tr>\n",
              "      <th>1</th>\n",
              "      <td>240.0</td>\n",
              "      <td>1.0</td>\n",
              "      <td>240.0</td>\n",
              "      <td>100147444</td>\n",
              "      <td>0.0</td>\n",
              "      <td>240</td>\n",
              "      <td>2016.0</td>\n",
              "      <td>7.0</td>\n",
              "      <td>2.0</td>\n",
              "      <td>1</td>\n",
              "      <td>6</td>\n",
              "      <td>1</td>\n",
              "      <td>1</td>\n",
              "    </tr>\n",
              "    <tr>\n",
              "      <th>2</th>\n",
              "      <td>2450.0</td>\n",
              "      <td>1.0</td>\n",
              "      <td>2450.0</td>\n",
              "      <td>100147445</td>\n",
              "      <td>0.0</td>\n",
              "      <td>2,450</td>\n",
              "      <td>2016.0</td>\n",
              "      <td>7.0</td>\n",
              "      <td>3.0</td>\n",
              "      <td>1</td>\n",
              "      <td>6</td>\n",
              "      <td>14</td>\n",
              "      <td>1</td>\n",
              "    </tr>\n",
              "    <tr>\n",
              "      <th>3</th>\n",
              "      <td>360.0</td>\n",
              "      <td>1.0</td>\n",
              "      <td>60.0</td>\n",
              "      <td>100147446</td>\n",
              "      <td>300.0</td>\n",
              "      <td>360</td>\n",
              "      <td>2016.0</td>\n",
              "      <td>7.0</td>\n",
              "      <td>4.0</td>\n",
              "      <td>1</td>\n",
              "      <td>6</td>\n",
              "      <td>1</td>\n",
              "      <td>4</td>\n",
              "    </tr>\n",
              "    <tr>\n",
              "      <th>4</th>\n",
              "      <td>555.0</td>\n",
              "      <td>2.0</td>\n",
              "      <td>1110.0</td>\n",
              "      <td>100147447</td>\n",
              "      <td>0.0</td>\n",
              "      <td>1,110</td>\n",
              "      <td>2016.0</td>\n",
              "      <td>7.0</td>\n",
              "      <td>5.0</td>\n",
              "      <td>1</td>\n",
              "      <td>6</td>\n",
              "      <td>12</td>\n",
              "      <td>8</td>\n",
              "    </tr>\n",
              "  </tbody>\n",
              "</table>\n",
              "</div>\n",
              "    <div class=\"colab-df-buttons\">\n",
              "\n",
              "  <div class=\"colab-df-container\">\n",
              "    <button class=\"colab-df-convert\" onclick=\"convertToInteractive('df-7d8a4d82-e4cd-422e-82ae-b779b26f379e')\"\n",
              "            title=\"Convert this dataframe to an interactive table.\"\n",
              "            style=\"display:none;\">\n",
              "\n",
              "  <svg xmlns=\"http://www.w3.org/2000/svg\" height=\"24px\" viewBox=\"0 -960 960 960\">\n",
              "    <path d=\"M120-120v-720h720v720H120Zm60-500h600v-160H180v160Zm220 220h160v-160H400v160Zm0 220h160v-160H400v160ZM180-400h160v-160H180v160Zm440 0h160v-160H620v160ZM180-180h160v-160H180v160Zm440 0h160v-160H620v160Z\"/>\n",
              "  </svg>\n",
              "    </button>\n",
              "\n",
              "  <style>\n",
              "    .colab-df-container {\n",
              "      display:flex;\n",
              "      gap: 12px;\n",
              "    }\n",
              "\n",
              "    .colab-df-convert {\n",
              "      background-color: #E8F0FE;\n",
              "      border: none;\n",
              "      border-radius: 50%;\n",
              "      cursor: pointer;\n",
              "      display: none;\n",
              "      fill: #1967D2;\n",
              "      height: 32px;\n",
              "      padding: 0 0 0 0;\n",
              "      width: 32px;\n",
              "    }\n",
              "\n",
              "    .colab-df-convert:hover {\n",
              "      background-color: #E2EBFA;\n",
              "      box-shadow: 0px 1px 2px rgba(60, 64, 67, 0.3), 0px 1px 3px 1px rgba(60, 64, 67, 0.15);\n",
              "      fill: #174EA6;\n",
              "    }\n",
              "\n",
              "    .colab-df-buttons div {\n",
              "      margin-bottom: 4px;\n",
              "    }\n",
              "\n",
              "    [theme=dark] .colab-df-convert {\n",
              "      background-color: #3B4455;\n",
              "      fill: #D2E3FC;\n",
              "    }\n",
              "\n",
              "    [theme=dark] .colab-df-convert:hover {\n",
              "      background-color: #434B5C;\n",
              "      box-shadow: 0px 1px 3px 1px rgba(0, 0, 0, 0.15);\n",
              "      filter: drop-shadow(0px 1px 2px rgba(0, 0, 0, 0.3));\n",
              "      fill: #FFFFFF;\n",
              "    }\n",
              "  </style>\n",
              "\n",
              "    <script>\n",
              "      const buttonEl =\n",
              "        document.querySelector('#df-7d8a4d82-e4cd-422e-82ae-b779b26f379e button.colab-df-convert');\n",
              "      buttonEl.style.display =\n",
              "        google.colab.kernel.accessAllowed ? 'block' : 'none';\n",
              "\n",
              "      async function convertToInteractive(key) {\n",
              "        const element = document.querySelector('#df-7d8a4d82-e4cd-422e-82ae-b779b26f379e');\n",
              "        const dataTable =\n",
              "          await google.colab.kernel.invokeFunction('convertToInteractive',\n",
              "                                                    [key], {});\n",
              "        if (!dataTable) return;\n",
              "\n",
              "        const docLinkHtml = 'Like what you see? Visit the ' +\n",
              "          '<a target=\"_blank\" href=https://colab.research.google.com/notebooks/data_table.ipynb>data table notebook</a>'\n",
              "          + ' to learn more about interactive tables.';\n",
              "        element.innerHTML = '';\n",
              "        dataTable['output_type'] = 'display_data';\n",
              "        await google.colab.output.renderOutput(dataTable, element);\n",
              "        const docLink = document.createElement('div');\n",
              "        docLink.innerHTML = docLinkHtml;\n",
              "        element.appendChild(docLink);\n",
              "      }\n",
              "    </script>\n",
              "  </div>\n",
              "\n",
              "\n",
              "<div id=\"df-73af7d7f-dc09-4d46-b2fe-92236615ec9e\">\n",
              "  <button class=\"colab-df-quickchart\" onclick=\"quickchart('df-73af7d7f-dc09-4d46-b2fe-92236615ec9e')\"\n",
              "            title=\"Suggest charts\"\n",
              "            style=\"display:none;\">\n",
              "\n",
              "<svg xmlns=\"http://www.w3.org/2000/svg\" height=\"24px\"viewBox=\"0 0 24 24\"\n",
              "     width=\"24px\">\n",
              "    <g>\n",
              "        <path d=\"M19 3H5c-1.1 0-2 .9-2 2v14c0 1.1.9 2 2 2h14c1.1 0 2-.9 2-2V5c0-1.1-.9-2-2-2zM9 17H7v-7h2v7zm4 0h-2V7h2v10zm4 0h-2v-4h2v4z\"/>\n",
              "    </g>\n",
              "</svg>\n",
              "  </button>\n",
              "\n",
              "<style>\n",
              "  .colab-df-quickchart {\n",
              "      --bg-color: #E8F0FE;\n",
              "      --fill-color: #1967D2;\n",
              "      --hover-bg-color: #E2EBFA;\n",
              "      --hover-fill-color: #174EA6;\n",
              "      --disabled-fill-color: #AAA;\n",
              "      --disabled-bg-color: #DDD;\n",
              "  }\n",
              "\n",
              "  [theme=dark] .colab-df-quickchart {\n",
              "      --bg-color: #3B4455;\n",
              "      --fill-color: #D2E3FC;\n",
              "      --hover-bg-color: #434B5C;\n",
              "      --hover-fill-color: #FFFFFF;\n",
              "      --disabled-bg-color: #3B4455;\n",
              "      --disabled-fill-color: #666;\n",
              "  }\n",
              "\n",
              "  .colab-df-quickchart {\n",
              "    background-color: var(--bg-color);\n",
              "    border: none;\n",
              "    border-radius: 50%;\n",
              "    cursor: pointer;\n",
              "    display: none;\n",
              "    fill: var(--fill-color);\n",
              "    height: 32px;\n",
              "    padding: 0;\n",
              "    width: 32px;\n",
              "  }\n",
              "\n",
              "  .colab-df-quickchart:hover {\n",
              "    background-color: var(--hover-bg-color);\n",
              "    box-shadow: 0 1px 2px rgba(60, 64, 67, 0.3), 0 1px 3px 1px rgba(60, 64, 67, 0.15);\n",
              "    fill: var(--button-hover-fill-color);\n",
              "  }\n",
              "\n",
              "  .colab-df-quickchart-complete:disabled,\n",
              "  .colab-df-quickchart-complete:disabled:hover {\n",
              "    background-color: var(--disabled-bg-color);\n",
              "    fill: var(--disabled-fill-color);\n",
              "    box-shadow: none;\n",
              "  }\n",
              "\n",
              "  .colab-df-spinner {\n",
              "    border: 2px solid var(--fill-color);\n",
              "    border-color: transparent;\n",
              "    border-bottom-color: var(--fill-color);\n",
              "    animation:\n",
              "      spin 1s steps(1) infinite;\n",
              "  }\n",
              "\n",
              "  @keyframes spin {\n",
              "    0% {\n",
              "      border-color: transparent;\n",
              "      border-bottom-color: var(--fill-color);\n",
              "      border-left-color: var(--fill-color);\n",
              "    }\n",
              "    20% {\n",
              "      border-color: transparent;\n",
              "      border-left-color: var(--fill-color);\n",
              "      border-top-color: var(--fill-color);\n",
              "    }\n",
              "    30% {\n",
              "      border-color: transparent;\n",
              "      border-left-color: var(--fill-color);\n",
              "      border-top-color: var(--fill-color);\n",
              "      border-right-color: var(--fill-color);\n",
              "    }\n",
              "    40% {\n",
              "      border-color: transparent;\n",
              "      border-right-color: var(--fill-color);\n",
              "      border-top-color: var(--fill-color);\n",
              "    }\n",
              "    60% {\n",
              "      border-color: transparent;\n",
              "      border-right-color: var(--fill-color);\n",
              "    }\n",
              "    80% {\n",
              "      border-color: transparent;\n",
              "      border-right-color: var(--fill-color);\n",
              "      border-bottom-color: var(--fill-color);\n",
              "    }\n",
              "    90% {\n",
              "      border-color: transparent;\n",
              "      border-bottom-color: var(--fill-color);\n",
              "    }\n",
              "  }\n",
              "</style>\n",
              "\n",
              "  <script>\n",
              "    async function quickchart(key) {\n",
              "      const quickchartButtonEl =\n",
              "        document.querySelector('#' + key + ' button');\n",
              "      quickchartButtonEl.disabled = true;  // To prevent multiple clicks.\n",
              "      quickchartButtonEl.classList.add('colab-df-spinner');\n",
              "      try {\n",
              "        const charts = await google.colab.kernel.invokeFunction(\n",
              "            'suggestCharts', [key], {});\n",
              "      } catch (error) {\n",
              "        console.error('Error during call to suggestCharts:', error);\n",
              "      }\n",
              "      quickchartButtonEl.classList.remove('colab-df-spinner');\n",
              "      quickchartButtonEl.classList.add('colab-df-quickchart-complete');\n",
              "    }\n",
              "    (() => {\n",
              "      let quickchartButtonEl =\n",
              "        document.querySelector('#df-73af7d7f-dc09-4d46-b2fe-92236615ec9e button');\n",
              "      quickchartButtonEl.style.display =\n",
              "        google.colab.kernel.accessAllowed ? 'block' : 'none';\n",
              "    })();\n",
              "  </script>\n",
              "</div>\n",
              "\n",
              "    </div>\n",
              "  </div>\n"
            ],
            "application/vnd.google.colaboratory.intrinsic+json": {
              "type": "dataframe",
              "variable_name": "df_new"
            }
          },
          "metadata": {},
          "execution_count": 31
        }
      ],
      "source": [
        "df_new.head()"
      ]
    },
    {
      "cell_type": "code",
      "execution_count": null,
      "metadata": {
        "colab": {
          "base_uri": "https://localhost:8080/"
        },
        "id": "EQBwfSqIBPfm",
        "outputId": "afa19143-0f58-40ae-d836-900d9e659444"
      },
      "outputs": [
        {
          "output_type": "stream",
          "name": "stdout",
          "text": [
            "Index(['price', 'qty_ordered', 'grand_total', 'increment_id',\n",
            "       'discount_amount', ' MV ', 'Year', 'Month', 'Customer ID', 'Day',\n",
            "       'Payment_method_encoded', 'category_name_1_encoded', 'status_encoded'],\n",
            "      dtype='object')\n",
            "price                      float64\n",
            "qty_ordered                float64\n",
            "grand_total                float64\n",
            "increment_id                object\n",
            "discount_amount            float64\n",
            " MV                         object\n",
            "Year                       float64\n",
            "Month                      float64\n",
            "Customer ID                float64\n",
            "Day                          int32\n",
            "Payment_method_encoded       int64\n",
            "category_name_1_encoded      int64\n",
            "status_encoded               int64\n",
            "dtype: object\n"
          ]
        }
      ],
      "source": [
        "print(df_new.columns)\n",
        "print(df_new.dtypes)\n"
      ]
    },
    {
      "cell_type": "code",
      "execution_count": null,
      "metadata": {
        "id": "OWWg5WkjD8YD"
      },
      "outputs": [],
      "source": [
        "df_new[' MV '] = df_new[' MV '].str.replace(',', '').str.strip()\n",
        "df_new[' MV '] = pd.to_numeric(df_new[' MV '], errors='coerce')\n",
        "\n",
        "# Convert NaN values to 0 (or any default value as needed)\n",
        "df_new[' MV '] = df_new[' MV '].fillna(0).astype(int)"
      ]
    },
    {
      "cell_type": "markdown",
      "metadata": {
        "id": "xB2oY-gwABvV"
      },
      "source": [
        "#**Regression Algos**"
      ]
    },
    {
      "cell_type": "code",
      "execution_count": null,
      "metadata": {
        "id": "5new7tVbAt1v"
      },
      "outputs": [],
      "source": [
        "import numpy as np\n",
        "import pandas as pd\n",
        "from sklearn.model_selection import KFold\n",
        "from sklearn.linear_model import LinearRegression\n",
        "from sklearn.metrics import mean_squared_error"
      ]
    },
    {
      "cell_type": "markdown",
      "source": [
        "**X and Y**"
      ],
      "metadata": {
        "id": "HU21QdwWu5nY"
      }
    },
    {
      "cell_type": "code",
      "execution_count": null,
      "metadata": {
        "id": "T4W_K610A8MM"
      },
      "outputs": [],
      "source": [
        "X = df_new[['qty_ordered', 'grand_total',\"discount_amount\",\" MV \",\"Month\",\"Customer ID\",\"Day\",\"category_name_1_encoded\",\"status_encoded\",\"Payment_method_encoded\"]].values\n",
        "y = df_new['price'].values\n"
      ]
    },
    {
      "cell_type": "code",
      "execution_count": null,
      "metadata": {
        "id": "PM6xdiOsA02K"
      },
      "outputs": [],
      "source": [
        "# Number of folds for cross-validation\n",
        "k = 20\n",
        "\n",
        "# Initialize KFold with k splits\n",
        "kf = KFold(n_splits=k)\n",
        "\n",
        "# Lists to store MSE values and models for each fold\n",
        "mse_values = []\n",
        "models = []"
      ]
    },
    {
      "cell_type": "markdown",
      "source": [
        "**MultiLinear Regression**"
      ],
      "metadata": {
        "id": "9X72mk-8wbpe"
      }
    },
    {
      "cell_type": "code",
      "execution_count": null,
      "metadata": {
        "colab": {
          "base_uri": "https://localhost:8080/"
        },
        "id": "SXTk72TKAGpJ",
        "outputId": "4bceac8b-26f0-44e9-c1d2-c25c51f61fd5"
      },
      "outputs": [
        {
          "output_type": "stream",
          "name": "stdout",
          "text": [
            "Fold 1:\n",
            "MSE for fold 1: 27462655.7064509\n",
            "Coefficients: [-8.00900403e+02  1.94513682e-01  4.66840730e+00  7.29045476e-03\n",
            " -7.60157697e+01  6.33485763e-03  1.62824124e+01 -6.42184078e+01\n",
            " -1.42804683e+02  3.35092938e+00]\n",
            "Intercept: 3780.19396023834\n",
            "\n",
            "Fold 2:\n",
            "MSE for fold 2: 23984451.665366497\n",
            "Coefficients: [-7.69208759e+02  1.92329339e-01  4.66564652e+00  7.62166765e-03\n",
            " -4.55150582e+01  4.57367755e-03  1.05249532e+01 -5.61445392e+01\n",
            " -1.52132217e+02  2.62625056e+01]\n",
            "Intercept: 3657.3888451867415\n",
            "\n",
            "Fold 3:\n",
            "MSE for fold 3: 28399175.77928409\n",
            "Coefficients: [-7.97685372e+02  1.94615038e-01  4.67091078e+00  7.51322402e-03\n",
            " -5.96233399e+01  6.92646149e-03  1.59054453e+01 -5.56890754e+01\n",
            " -1.38595055e+02  1.99580961e+01]\n",
            "Intercept: 3456.572246804666\n",
            "\n",
            "Fold 4:\n",
            "MSE for fold 4: 26568265.912485816\n",
            "Coefficients: [-8.12556108e+02  1.95309799e-01  4.65670042e+00  7.64525957e-03\n",
            " -7.46887076e+01  5.67539798e-03  1.27455210e+01 -5.28354834e+01\n",
            " -1.39951911e+02  2.44218671e+01]\n",
            "Intercept: 3689.2290572354295\n",
            "\n",
            "Fold 5:\n",
            "MSE for fold 5: 39007889.54583754\n",
            "Coefficients: [-8.75358831e+02  1.67400977e-01  4.68061092e+00  4.24643356e-02\n",
            " -8.82946291e+01  3.20836469e-03  1.72100147e+01 -4.73018140e+01\n",
            " -1.38739455e+02 -1.08977252e+01]\n",
            "Intercept: 4125.323920872271\n",
            "\n",
            "Fold 6:\n",
            "MSE for fold 6: 22173815.78351778\n",
            "Coefficients: [-7.74264883e+02  1.98454994e-01  4.67750828e+00  7.15385003e-03\n",
            " -6.71283351e+01  5.42940649e-03  1.07804514e+01 -5.01124311e+01\n",
            " -1.41036077e+02  7.80732664e+00]\n",
            "Intercept: 3690.4948744777253\n",
            "\n",
            "Fold 7:\n",
            "MSE for fold 7: 23576120.06571295\n",
            "Coefficients: [-7.98535142e+02  1.99361870e-01  4.56163639e+00  7.70852488e-03\n",
            " -5.05841767e+01  6.18037971e-03  1.09112564e+01 -5.69543610e+01\n",
            " -1.40999251e+02 -1.23281456e+01]\n",
            "Intercept: 3769.7406432283715\n",
            "\n",
            "Fold 8:\n",
            "MSE for fold 8: 29385554.16438182\n",
            "Coefficients: [-7.95233390e+02  2.02154642e-01  4.59512130e+00  7.89077460e-03\n",
            " -4.29997586e+01  6.38914162e-03  1.27804425e+01 -5.45084629e+01\n",
            " -1.41757288e+02 -1.08916152e+01]\n",
            "Intercept: 3613.900569040873\n",
            "\n",
            "Fold 9:\n",
            "MSE for fold 9: 32519853.034902275\n",
            "Coefficients: [-8.28170174e+02  1.96776858e-01  4.56089980e+00  7.41965755e-03\n",
            " -9.09974142e+01  5.97459861e-03  1.29305073e+01 -5.74435972e+01\n",
            " -1.35160913e+02 -1.63121242e+01]\n",
            "Intercept: 4089.6893861566728\n",
            "\n",
            "Fold 10:\n",
            "MSE for fold 10: 32347905.79370471\n",
            "Coefficients: [-8.46190863e+02  1.98128499e-01  4.67664423e+00  7.24875641e-03\n",
            " -7.26262051e+01  5.95229477e-03  1.12566964e+01 -5.51892818e+01\n",
            " -1.47608473e+02  9.50700575e-01]\n",
            "Intercept: 3880.2180846804113\n",
            "\n",
            "Fold 11:\n",
            "MSE for fold 11: 51970736.96819254\n",
            "Coefficients: [-7.76211656e+02  2.16904283e-01  4.58646591e+00  6.53973056e-03\n",
            " -6.47970919e+01  3.81550965e-03  1.42953591e+01 -5.15352703e+01\n",
            " -1.37361350e+02  1.45765347e+00]\n",
            "Intercept: 3573.7372188693407\n",
            "\n",
            "Fold 12:\n",
            "MSE for fold 12: 7004346.274669804\n",
            "Coefficients: [-7.87802506e+02  2.00936767e-01  4.59485841e+00  7.81478802e-03\n",
            " -6.43455649e+01  5.48217317e-03  1.03505362e+01 -5.48664793e+01\n",
            " -1.43538296e+02 -1.29465559e+00]\n",
            "Intercept: 3771.7488958030353\n",
            "\n",
            "Fold 13:\n",
            "MSE for fold 13: 137455.6979289262\n",
            "Coefficients: [-7.90056282e+02  1.98128822e-01  4.62557314e+00  8.10673973e-03\n",
            " -6.54335459e+01  5.48370587e-03  1.02331915e+01 -5.65860149e+01\n",
            " -1.40970999e+02  1.70853976e-01]\n",
            "Intercept: 3784.2467702236327\n",
            "\n",
            "Fold 14:\n",
            "MSE for fold 14: 137455.6979289262\n",
            "Coefficients: [-7.90056282e+02  1.98128822e-01  4.62557314e+00  8.10673973e-03\n",
            " -6.54335459e+01  5.48370587e-03  1.02331915e+01 -5.65860149e+01\n",
            " -1.40970999e+02  1.70853976e-01]\n",
            "Intercept: 3784.2467702236327\n",
            "\n",
            "Fold 15:\n",
            "MSE for fold 15: 137455.6979289262\n",
            "Coefficients: [-7.90056282e+02  1.98128822e-01  4.62557314e+00  8.10673973e-03\n",
            " -6.54335459e+01  5.48370587e-03  1.02331915e+01 -5.65860149e+01\n",
            " -1.40970999e+02  1.70853976e-01]\n",
            "Intercept: 3784.2467702236327\n",
            "\n",
            "Fold 16:\n",
            "MSE for fold 16: 137455.27648218276\n",
            "Coefficients: [-7.90056402e+02  1.98128824e-01  4.62557326e+00  8.10673801e-03\n",
            " -6.54335616e+01  5.48370635e-03  1.02332191e+01 -5.65859963e+01\n",
            " -1.40971008e+02  1.70881203e-01]\n",
            "Intercept: 3784.246486301834\n",
            "\n",
            "Fold 17:\n",
            "MSE for fold 17: 137455.27648218276\n",
            "Coefficients: [-7.90056402e+02  1.98128824e-01  4.62557326e+00  8.10673801e-03\n",
            " -6.54335616e+01  5.48370635e-03  1.02332191e+01 -5.65859963e+01\n",
            " -1.40971008e+02  1.70881203e-01]\n",
            "Intercept: 3784.246486301834\n",
            "\n",
            "Fold 18:\n",
            "MSE for fold 18: 137455.27648218276\n",
            "Coefficients: [-7.90056402e+02  1.98128824e-01  4.62557326e+00  8.10673801e-03\n",
            " -6.54335616e+01  5.48370635e-03  1.02332191e+01 -5.65859963e+01\n",
            " -1.40971008e+02  1.70881203e-01]\n",
            "Intercept: 3784.246486301834\n",
            "\n",
            "Fold 19:\n",
            "MSE for fold 19: 137455.27648218276\n",
            "Coefficients: [-7.90056402e+02  1.98128824e-01  4.62557326e+00  8.10673801e-03\n",
            " -6.54335616e+01  5.48370635e-03  1.02332191e+01 -5.65859963e+01\n",
            " -1.40971008e+02  1.70881203e-01]\n",
            "Intercept: 3784.246486301834\n",
            "\n",
            "Fold 20:\n",
            "MSE for fold 20: 137455.27648218276\n",
            "Coefficients: [-7.90056402e+02  1.98128824e-01  4.62557326e+00  8.10673801e-03\n",
            " -6.54335616e+01  5.48370635e-03  1.02332191e+01 -5.65859963e+01\n",
            " -1.40971008e+02  1.70881203e-01]\n",
            "Intercept: 3784.246486301834\n",
            "\n",
            "Average MSE across all folds: 17275020.708535217\n",
            "Best model is from fold 16\n"
          ]
        }
      ],
      "source": [
        "# Perform k-fold cross-validation\n",
        "fold = 1\n",
        "for train_index, test_index in kf.split(X):\n",
        "    print(f\"Fold {fold}:\")\n",
        "    X_train, X_test = X[train_index], X[test_index]\n",
        "    y_train, y_test = y[train_index], y[test_index]\n",
        "\n",
        "    # Initialize and fit linear regression model\n",
        "    model = LinearRegression()\n",
        "    model.fit(X_train, y_train)\n",
        "\n",
        "    # Make predictions on the test set\n",
        "    y_pred = model.predict(X_test)\n",
        "\n",
        "    # Calculate Mean Squared Error (MSE)\n",
        "    mse = mean_squared_error(y_test, y_pred)\n",
        "    mse_values.append(mse)\n",
        "\n",
        "    print(f\"MSE for fold {fold}: {mse}\")\n",
        "    print(\"Coefficients:\", model.coef_)\n",
        "    print(\"Intercept:\", model.intercept_)\n",
        "    print()\n",
        "\n",
        "    # Store the trained model for later use\n",
        "    models.append(model)\n",
        "\n",
        "    fold += 1\n",
        "\n",
        "# Print average MSE across all folds\n",
        "avg_mse = np.mean(mse_values)\n",
        "print(f\"Average MSE across all folds: {avg_mse}\")\n",
        "\n",
        "# Select the best model based on lowest MSE\n",
        "best_model_idx = np.argmin(mse_values)\n",
        "best_model = models[best_model_idx]\n",
        "print(f\"Best model is from fold {best_model_idx + 1}\")"
      ]
    },
    {
      "cell_type": "code",
      "execution_count": null,
      "metadata": {
        "id": "Zvaudt-7FeGF"
      },
      "outputs": [],
      "source": [
        "from sklearn.model_selection import train_test_split\n",
        "import matplotlib.pyplot as plt\n",
        "\n"
      ]
    },
    {
      "cell_type": "code",
      "execution_count": null,
      "metadata": {
        "colab": {
          "base_uri": "https://localhost:8080/"
        },
        "id": "1colbsn6DeWU",
        "outputId": "225dc27c-b450-4461-88b6-6ae443963c27"
      },
      "outputs": [
        {
          "output_type": "stream",
          "name": "stdout",
          "text": [
            "    Actual    Predicted\n",
            "0   6348.0  6004.610241\n",
            "1   6348.0  6004.610241\n",
            "2   6348.0  6004.610241\n",
            "3   6348.0  6004.610241\n",
            "4   6348.0  6004.610241\n",
            "..     ...          ...\n",
            "95   225.0  2049.016911\n",
            "96  1000.0   668.294548\n",
            "97   180.0   524.192815\n",
            "98  7990.0  8242.746920\n",
            "99    90.0  2167.876037\n",
            "\n",
            "[100 rows x 2 columns]\n"
          ]
        }
      ],
      "source": [
        "# Split data into training and testing sets\n",
        "X_train, X_test, y_train, y_test = train_test_split(X, y, test_size=0.2, random_state=42)\n",
        "\n",
        "# Initialize and fit linear regression model\n",
        "best_model.fit(X_train, y_train)\n",
        "\n",
        "# Make predictions on the test set\n",
        "y_pred = best_model.predict(X_test)\n",
        "\n",
        "compare_df = pd.DataFrame({'Actual': y_test, 'Predicted': abs(y_pred)})\n",
        "print(compare_df.head(100))  # Display the first 10 rows for comparison\n",
        "\n"
      ]
    },
    {
      "cell_type": "markdown",
      "source": [
        "**Random Forest Regression**"
      ],
      "metadata": {
        "id": "SfvZa0Luw5cm"
      }
    },
    {
      "cell_type": "code",
      "source": [
        "from sklearn.model_selection import KFold\n",
        "from sklearn.ensemble import RandomForestRegressor\n",
        "from sklearn.metrics import mean_squared_error\n",
        "import numpy as np\n",
        "\n",
        "# Define the number of folds for cross-validation\n",
        "k = 2\n",
        "\n",
        "# Initialize KFold with k splits\n",
        "kf = KFold(n_splits=k)\n",
        "\n",
        "# Lists to store MSE values and models for each fold\n",
        "mse_values = []\n",
        "models = []\n",
        "\n",
        "# Assuming X and y are already defined\n",
        "# X = df_new[['qty_ordered', 'grand_total', 'discount_amount', 'MV', 'Month', 'Customer ID', 'Day', 'category_name_1_encoded', 'status_encoded', 'Payment_method_encoded']].values\n",
        "# y = df_new['price'].values\n",
        "\n",
        "# Perform k-fold cross-validation\n",
        "for train_index, test_index in kf.split(X):\n",
        "    X_train, X_test = X[train_index], X[test_index]\n",
        "    y_train, y_test = y[train_index], y[test_index]\n",
        "\n",
        "    # Initialize and train the random forest regressor\n",
        "    rf_regressor = RandomForestRegressor()\n",
        "    rf_regressor.fit(X_train, y_train)\n",
        "\n",
        "    # Make predictions\n",
        "    y_pred = rf_regressor.predict(X_test)\n",
        "\n",
        "    # Calculate MSE for this fold\n",
        "    mse_fold = mean_squared_error(y_test, y_pred)\n",
        "    mse_values.append(mse_fold)\n",
        "\n",
        "    # Store the model for this fold\n",
        "    models.append(rf_regressor)\n",
        "\n",
        "# Calculate the average MSE across all folds\n",
        "avg_mse = np.mean(mse_values)\n",
        "print(\"Average MSE:\", avg_mse)\n"
      ],
      "metadata": {
        "colab": {
          "base_uri": "https://localhost:8080/"
        },
        "id": "5xnZaw4_w99w",
        "outputId": "9723e880-48f5-4c97-983d-00f820d6795b"
      },
      "execution_count": null,
      "outputs": [
        {
          "output_type": "stream",
          "name": "stdout",
          "text": [
            "Average MSE: 12735933.989054792\n"
          ]
        }
      ]
    },
    {
      "cell_type": "markdown",
      "source": [
        "**Polynomial Regression**"
      ],
      "metadata": {
        "id": "A0P6IKbAzsrc"
      }
    },
    {
      "cell_type": "markdown",
      "source": [],
      "metadata": {
        "id": "40jwSwUGzyAo"
      }
    },
    {
      "cell_type": "code",
      "source": [
        "from sklearn.preprocessing import PolynomialFeatures\n",
        "from sklearn.linear_model import LinearRegression\n",
        "from sklearn.model_selection import KFold\n",
        "from sklearn.metrics import mean_squared_error\n",
        "import numpy as np\n",
        "\n",
        "# Assuming X and y are already defined\n",
        "# X = df_new[['qty_ordered', 'grand_total', 'discount_amount', 'MV', 'Month', 'Customer ID', 'Day', 'category_name_1_encoded', 'status_encoded', 'Payment_method_encoded']].values\n",
        "# y = df_new['price'].values\n",
        "\n",
        "# Define the degree of the polynomial\n",
        "degree = 2  # You can adjust this as needed\n",
        "\n",
        "# Define the number of folds for cross-validation\n",
        "k = 2\n",
        "\n",
        "# Initialize KFold with k splits\n",
        "kf = KFold(n_splits=k)\n",
        "\n",
        "# Lists to store MSE values and models for each fold\n",
        "mse_values = []\n",
        "models = []\n",
        "\n",
        "# Perform k-fold cross-validation\n",
        "for train_index, test_index in kf.split(X):\n",
        "    X_train, X_test = X[train_index], X[test_index]\n",
        "    y_train, y_test = y[train_index], y[test_index]\n",
        "\n",
        "    # Initialize polynomial features and transform X_train\n",
        "    poly_features = PolynomialFeatures(degree=degree)\n",
        "    X_train_poly = poly_features.fit_transform(X_train)\n",
        "\n",
        "    # Initialize Linear Regression model\n",
        "    poly_regression = LinearRegression()\n",
        "\n",
        "    # Fit the polynomial regression model\n",
        "    poly_regression.fit(X_train_poly, y_train)\n",
        "\n",
        "    # Transform X_test using the same polynomial features\n",
        "    X_test_poly = poly_features.transform(X_test)\n",
        "\n",
        "    # Make predictions\n",
        "    y_pred = poly_regression.predict(X_test_poly)\n",
        "\n",
        "    # Calculate MSE for this fold\n",
        "    mse_fold = mean_squared_error(y_test, y_pred)\n",
        "    mse_values.append(mse_fold)\n",
        "\n",
        "    # Store the model for this fold\n",
        "    models.append(poly_regression)\n",
        "\n",
        "# Calculate the average MSE across all folds\n",
        "avg_mse = np.mean(mse_values)\n",
        "print(\"Average MSE with Polynomial Regression:\", avg_mse)\n"
      ],
      "metadata": {
        "colab": {
          "base_uri": "https://localhost:8080/"
        },
        "id": "Y-7v936Jzy8h",
        "outputId": "32fa6ef3-0339-47a3-9e1f-0e4f00ef1674"
      },
      "execution_count": null,
      "outputs": [
        {
          "output_type": "stream",
          "name": "stdout",
          "text": [
            "Average MSE with Polynomial Regression: 18100575678.942436\n"
          ]
        }
      ]
    },
    {
      "cell_type": "markdown",
      "source": [
        "**Support Vector Regression**"
      ],
      "metadata": {
        "id": "SiV3n3Mc5bdP"
      }
    },
    {
      "cell_type": "code",
      "source": [
        "from sklearn.ensemble import GradientBoostingRegressor\n",
        "from sklearn.model_selection import KFold\n",
        "from sklearn.metrics import mean_squared_error\n",
        "import numpy as np\n",
        "\n",
        "# Assuming X and y are already defined\n",
        "# X = df_new[['qty_ordered', 'grand_total', 'discount_amount', 'MV', 'Month', 'Customer ID', 'Day', 'category_name_1_encoded', 'status_encoded', 'Payment_method_encoded']].values\n",
        "# y = df_new['price'].values\n",
        "\n",
        "# Define the number of folds for cross-validation\n",
        "k = 10\n",
        "\n",
        "# Initialize KFold with k splits\n",
        "kf = KFold(n_splits=k)\n",
        "\n",
        "# Lists to store MSE values and models for each fold\n",
        "mse_values = []\n",
        "models = []\n",
        "\n",
        "# Perform k-fold cross-validation\n",
        "for train_index, test_index in kf.split(X):\n",
        "    X_train, X_test = X[train_index], X[test_index]\n",
        "    y_train, y_test = y[train_index], y[test_index]\n",
        "\n",
        "    # Initialize Gradient Boosting Regressor model\n",
        "    gb_regressor = GradientBoostingRegressor()\n",
        "\n",
        "    # Fit the Gradient Boosting Regressor model\n",
        "    gb_regressor.fit(X_train, y_train)\n",
        "\n",
        "    # Make predictions\n",
        "    y_pred = gb_regressor.predict(X_test)\n",
        "\n",
        "    # Calculate MSE for this fold\n",
        "    mse_fold = mean_squared_error(y_test, y_pred)\n",
        "    mse_values.append(mse_fold)\n",
        "\n",
        "    # Store the model for this fold\n",
        "    models.append(gb_regressor)\n",
        "\n",
        "# Calculate the average MSE across all folds\n",
        "avg_mse = np.mean(mse_values)\n",
        "print(\"Average MSE with Gradient Boosting Regression:\", avg_mse)\n"
      ],
      "metadata": {
        "colab": {
          "base_uri": "https://localhost:8080/"
        },
        "id": "2Tgm4MFS5e74",
        "outputId": "1776cfc4-e830-4e5d-d782-953a4986e218"
      },
      "execution_count": null,
      "outputs": [
        {
          "output_type": "stream",
          "name": "stdout",
          "text": [
            "Average MSE with Gradient Boosting Regression: 278798.1450075237\n"
          ]
        }
      ]
    },
    {
      "cell_type": "markdown",
      "metadata": {
        "id": "4_YeTGbAMl66"
      },
      "source": [
        "**Discount**"
      ]
    },
    {
      "cell_type": "code",
      "execution_count": null,
      "metadata": {
        "id": "VVGKPK07MucZ",
        "colab": {
          "base_uri": "https://localhost:8080/"
        },
        "outputId": "dcf3cb1f-049d-4d95-ddfb-21b87ebd6857"
      },
      "outputs": [
        {
          "output_type": "stream",
          "name": "stdout",
          "text": [
            "          price  discount_amount\n",
            "0        1950.0              0.0\n",
            "1         240.0              0.0\n",
            "2        2450.0              0.0\n",
            "3         360.0            300.0\n",
            "4         555.0              0.0\n",
            "...         ...              ...\n",
            "1048570  6348.0            499.0\n",
            "1048571  6348.0            499.0\n",
            "1048572  6348.0            499.0\n",
            "1048573  6348.0            499.0\n",
            "1048574  6348.0            499.0\n",
            "\n",
            "[1048575 rows x 2 columns]\n"
          ]
        }
      ],
      "source": [
        "# Filter rows where discount amount is greater than price\n",
        "mask = df['discount_amount'] > df['price']\n",
        "\n",
        "# Update 'discount_amount' for rows where discount is greater than price\n",
        "df.loc[mask, 'discount_amount'] -= df.loc[mask, 'price']\n",
        "\n",
        "# Print the updated DataFrame\n",
        "print(df[['price', 'discount_amount']])\n"
      ]
    },
    {
      "cell_type": "code",
      "execution_count": null,
      "metadata": {
        "id": "VtI9txA1a7P1",
        "colab": {
          "base_uri": "https://localhost:8080/"
        },
        "outputId": "7ad392dc-bd05-4e80-b995-d0340622c456"
      },
      "outputs": [
        {
          "output_type": "execute_result",
          "data": {
            "text/plain": [
              "3874.25"
            ]
          },
          "metadata": {},
          "execution_count": 47
        }
      ],
      "source": [
        "df[\"discount_amount\"].max()"
      ]
    },
    {
      "cell_type": "code",
      "execution_count": null,
      "metadata": {
        "id": "Jq4O45IJPqul",
        "colab": {
          "base_uri": "https://localhost:8080/"
        },
        "outputId": "8a8b7147-93a7-4aff-e00d-ba58c4443fb4"
      },
      "outputs": [
        {
          "output_type": "execute_result",
          "data": {
            "text/plain": [
              "inf"
            ]
          },
          "metadata": {},
          "execution_count": 48
        }
      ],
      "source": [
        "# Calculate discount percentage after updating discount_amount\n",
        "df['discount_percentage'] = (df['discount_amount'] / df['price']) * 100\n",
        "df['discount_percentage'].max()\n"
      ]
    },
    {
      "cell_type": "markdown",
      "metadata": {
        "id": "uJgkjub9N2e8"
      },
      "source": [
        "**Top 10 Discounts**"
      ]
    },
    {
      "cell_type": "code",
      "execution_count": null,
      "metadata": {
        "id": "ZwsAWEwiN7AL",
        "colab": {
          "base_uri": "https://localhost:8080/"
        },
        "outputId": "696e9c78-552e-4cdc-b539-b3afe2a02a7a"
      },
      "outputs": [
        {
          "output_type": "stream",
          "name": "stdout",
          "text": [
            "       category_name_1  discount_percentage\n",
            "542396           Books                  inf\n",
            "427481           Books                  inf\n",
            "542047           Books                  inf\n",
            "542044           Books                  inf\n",
            "542022           Books                  inf\n",
            "542004           Books                  inf\n",
            "528857           Books                  inf\n",
            "427415           Books                  inf\n",
            "541805           Books                  inf\n",
            "541797           Books                  inf\n",
            "528121           Books                  inf\n",
            "452500           Books                  inf\n",
            "528112           Books                  inf\n",
            "528108           Books                  inf\n",
            "528092           Books                  inf\n",
            "430446           Books                  inf\n",
            "434072           Books                  inf\n",
            "433898           Books                  inf\n",
            "510596           Books                  inf\n",
            "518282           Books                  inf\n"
          ]
        }
      ],
      "source": [
        "# Sort the DataFrame by 'discount_percentage' column in descending order\n",
        "sorted_df = df.sort_values(by='discount_percentage', ascending=False)\n",
        "\n",
        "# Select the top 20 rows from the sorted DataFrame\n",
        "top_20_discounts = sorted_df.head(20)[['category_name_1', 'discount_percentage']]\n",
        "\n",
        "# Print the top 20 discounts with their corresponding category\n",
        "print(top_20_discounts)\n"
      ]
    },
    {
      "cell_type": "code",
      "execution_count": null,
      "metadata": {
        "id": "6uB56ebXcIQm"
      },
      "outputs": [],
      "source": []
    },
    {
      "cell_type": "markdown",
      "metadata": {
        "id": "UxwOq5jZcJbD"
      },
      "source": [
        "#**Clustering**"
      ]
    },
    {
      "cell_type": "code",
      "execution_count": null,
      "metadata": {
        "id": "ScPa5qrvcN2D"
      },
      "outputs": [],
      "source": [
        "import matplotlib.pyplot as plt\n",
        "from sklearn.cluster import KMeans"
      ]
    },
    {
      "cell_type": "code",
      "execution_count": null,
      "metadata": {
        "id": "exQ9rV9Niz5z",
        "colab": {
          "base_uri": "https://localhost:8080/"
        },
        "outputId": "5ba6177e-a83e-4124-c41f-7b4aea656bfc"
      },
      "outputs": [
        {
          "output_type": "stream",
          "name": "stderr",
          "text": [
            "/usr/local/lib/python3.10/dist-packages/sklearn/cluster/_kmeans.py:870: FutureWarning:\n",
            "\n",
            "The default value of `n_init` will change from 10 to 'auto' in 1.4. Set the value of `n_init` explicitly to suppress the warning\n",
            "\n"
          ]
        },
        {
          "output_type": "stream",
          "name": "stdout",
          "text": [
            "         price  cluster\n",
            "0  1950.000000        0\n",
            "1   240.000000        0\n",
            "2  2450.000000        0\n",
            "3   360.000000        0\n",
            "4   555.000000        0\n",
            "5    80.000000        0\n",
            "6   360.000000        0\n",
            "7   170.000000        0\n",
            "8  6348.416708        1\n",
            "9  6348.416708        1\n"
          ]
        }
      ],
      "source": [
        "X = df[['price']]\n",
        "\n",
        "# Choose the number of clusters (you can adjust this based on your data)\n",
        "num_clusters = 5\n",
        "\n",
        "# Initialize the KMeans model\n",
        "kmeans = KMeans(n_clusters=num_clusters, random_state=42)\n",
        "\n",
        "# Fit KMeans clustering on the price data\n",
        "kmeans.fit(X)\n",
        "\n",
        "# Get cluster labels for each data point\n",
        "cluster_labels = kmeans.labels_\n",
        "\n",
        "# Add a new column 'cluster' to the DataFrame and assign cluster labels\n",
        "df['cluster'] = cluster_labels\n",
        "\n",
        "\n",
        "# Print a sample of the DataFrame with the new 'cluster' column\n",
        "print(df[['price', 'cluster']].head(10))"
      ]
    },
    {
      "cell_type": "code",
      "execution_count": null,
      "metadata": {
        "id": "OQyyLtVdjWYv",
        "colab": {
          "base_uri": "https://localhost:8080/"
        },
        "outputId": "18dd4233-b357-4459-c0b2-1edd69f9a06c"
      },
      "outputs": [
        {
          "output_type": "stream",
          "name": "stdout",
          "text": [
            "             min      max   count\n",
            "cluster                          \n",
            "0            0.0   3562.0  430471\n",
            "1         3563.0  10110.0  532716\n",
            "2        26079.0  39799.0   19194\n",
            "3        10120.0  17400.0   40411\n",
            "4        17437.0  26060.0   25783\n"
          ]
        }
      ],
      "source": [
        "# Calculate summary statistics for each cluster\n",
        "cluster_summary = df.groupby('cluster')['price'].agg(['min', 'max', 'count'])\n",
        "\n",
        "# Print the summary statistics\n",
        "print(cluster_summary)\n"
      ]
    },
    {
      "cell_type": "markdown",
      "source": [
        "**Cluster Visualization**"
      ],
      "metadata": {
        "id": "KtCquWveWHs-"
      }
    },
    {
      "cell_type": "code",
      "execution_count": null,
      "metadata": {
        "id": "LK2raq-4jVB9",
        "colab": {
          "base_uri": "https://localhost:8080/",
          "height": 557
        },
        "outputId": "43c66cd2-e7aa-4ede-80a6-0d1b1456dee5"
      },
      "outputs": [
        {
          "output_type": "display_data",
          "data": {
            "text/plain": [
              "<Figure size 1000x600 with 1 Axes>"
            ],
            "image/png": "[encoded data removed]"
          },
          "metadata": {}
        }
      ],
      "source": [
        "# Visualize the clusters\n",
        "plt.figure(figsize=(10, 6))\n",
        "for cluster_label in range(num_clusters):\n",
        "    cluster_data = df[df['cluster'] == cluster_label]\n",
        "    plt.scatter(cluster_data['price'], cluster_data['price'], label=f'Cluster {cluster_label}')\n",
        "\n",
        "plt.xlabel('Price')\n",
        "plt.ylabel('Price')  # Use your actual y-axis label\n",
        "plt.title('Clustering based on Price')\n",
        "plt.legend()\n",
        "plt.show()\n"
      ]
    },
    {
      "cell_type": "markdown",
      "metadata": {
        "id": "wS0h3b1LkEsh"
      },
      "source": [
        "#**Classification**"
      ]
    },
    {
      "cell_type": "code",
      "execution_count": null,
      "metadata": {
        "id": "M0zL6KvZVOYh",
        "colab": {
          "base_uri": "https://localhost:8080/"
        },
        "outputId": "b3e43d73-ca5f-4415-9fc2-0413f7d2692f"
      },
      "outputs": [
        {
          "output_type": "stream",
          "name": "stdout",
          "text": [
            "Requirement already satisfied: lime in /usr/local/lib/python3.10/dist-packages (0.2.0.1)\n",
            "Requirement already satisfied: matplotlib in /usr/local/lib/python3.10/dist-packages (from lime) (3.7.1)\n",
            "Requirement already satisfied: numpy in /usr/local/lib/python3.10/dist-packages (from lime) (1.25.2)\n",
            "Requirement already satisfied: scipy in /usr/local/lib/python3.10/dist-packages (from lime) (1.11.4)\n",
            "Requirement already satisfied: tqdm in /usr/local/lib/python3.10/dist-packages (from lime) (4.66.2)\n",
            "Requirement already satisfied: scikit-learn>=0.18 in /usr/local/lib/python3.10/dist-packages (from lime) (1.2.2)\n",
            "Requirement already satisfied: scikit-image>=0.12 in /usr/local/lib/python3.10/dist-packages (from lime) (0.19.3)\n",
            "Requirement already satisfied: networkx>=2.2 in /usr/local/lib/python3.10/dist-packages (from scikit-image>=0.12->lime) (3.3)\n",
            "Requirement already satisfied: pillow!=7.1.0,!=7.1.1,!=8.3.0,>=6.1.0 in /usr/local/lib/python3.10/dist-packages (from scikit-image>=0.12->lime) (9.4.0)\n",
            "Requirement already satisfied: imageio>=2.4.1 in /usr/local/lib/python3.10/dist-packages (from scikit-image>=0.12->lime) (2.31.6)\n",
            "Requirement already satisfied: tifffile>=2019.7.26 in /usr/local/lib/python3.10/dist-packages (from scikit-image>=0.12->lime) (2024.4.18)\n",
            "Requirement already satisfied: PyWavelets>=1.1.1 in /usr/local/lib/python3.10/dist-packages (from scikit-image>=0.12->lime) (1.6.0)\n",
            "Requirement already satisfied: packaging>=20.0 in /usr/local/lib/python3.10/dist-packages (from scikit-image>=0.12->lime) (24.0)\n",
            "Requirement already satisfied: joblib>=1.1.1 in /usr/local/lib/python3.10/dist-packages (from scikit-learn>=0.18->lime) (1.4.0)\n",
            "Requirement already satisfied: threadpoolctl>=2.0.0 in /usr/local/lib/python3.10/dist-packages (from scikit-learn>=0.18->lime) (3.4.0)\n",
            "Requirement already satisfied: contourpy>=1.0.1 in /usr/local/lib/python3.10/dist-packages (from matplotlib->lime) (1.2.1)\n",
            "Requirement already satisfied: cycler>=0.10 in /usr/local/lib/python3.10/dist-packages (from matplotlib->lime) (0.12.1)\n",
            "Requirement already satisfied: fonttools>=4.22.0 in /usr/local/lib/python3.10/dist-packages (from matplotlib->lime) (4.51.0)\n",
            "Requirement already satisfied: kiwisolver>=1.0.1 in /usr/local/lib/python3.10/dist-packages (from matplotlib->lime) (1.4.5)\n",
            "Requirement already satisfied: pyparsing>=2.3.1 in /usr/local/lib/python3.10/dist-packages (from matplotlib->lime) (3.1.2)\n",
            "Requirement already satisfied: python-dateutil>=2.7 in /usr/local/lib/python3.10/dist-packages (from matplotlib->lime) (2.8.2)\n",
            "Requirement already satisfied: six>=1.5 in /usr/local/lib/python3.10/dist-packages (from python-dateutil>=2.7->matplotlib->lime) (1.16.0)\n"
          ]
        }
      ],
      "source": [
        "!pip install lime"
      ]
    },
    {
      "cell_type": "code",
      "execution_count": null,
      "metadata": {
        "id": "YMlPUoxykD2v",
        "colab": {
          "base_uri": "https://localhost:8080/"
        },
        "outputId": "4d4be2eb-adcd-4d94-ba45-80e31e488ca7"
      },
      "outputs": [
        {
          "output_type": "execute_result",
          "data": {
            "text/plain": [
              "array(['complete', 'canceled', 'order_refunded', 'received', 'refund',\n",
              "       'closed', 'fraud', 'holded', 'exchange', 'pending_paypal', 'paid',\n",
              "       '\\\\N', 'cod', 'pending', 'processing', 'payment_review'],\n",
              "      dtype=object)"
            ]
          },
          "metadata": {},
          "execution_count": 55
        }
      ],
      "source": [
        "df[\"status\"].unique()"
      ]
    },
    {
      "cell_type": "code",
      "execution_count": null,
      "metadata": {
        "id": "ISOaa4cQVLWt",
        "colab": {
          "base_uri": "https://localhost:8080/"
        },
        "outputId": "4a059e06-1de9-433d-a416-120a48136560"
      },
      "outputs": [
        {
          "output_type": "execute_result",
          "data": {
            "text/plain": [
              "Index(['item_id', 'status', 'created_at', 'sku', 'price', 'qty_ordered',\n",
              "       'grand_total', 'increment_id', 'category_name_1',\n",
              "       'sales_commission_code', 'discount_amount', 'payment_method',\n",
              "       'Working Date', 'BI Status', ' MV ', 'Year', 'Month', 'Customer Since',\n",
              "       'M-Y', 'FY', 'Customer ID', 'Day', 'Payment_method_encoded',\n",
              "       'category_name_1_encoded', 'status_encoded', 'discount_percentage',\n",
              "       'cluster'],\n",
              "      dtype='object')"
            ]
          },
          "metadata": {},
          "execution_count": 56
        }
      ],
      "source": [
        "df.columns"
      ]
    },
    {
      "cell_type": "markdown",
      "source": [
        "**X and Y for classification**"
      ],
      "metadata": {
        "id": "Dp9iWn1dYH7h"
      }
    },
    {
      "cell_type": "code",
      "execution_count": null,
      "metadata": {
        "id": "wUPu-FdVVZZ4"
      },
      "outputs": [],
      "source": [
        "features = ['price', 'qty_ordered', 'category_name_1_encoded', 'discount_amount', 'Year', 'Month', 'Customer ID']\n",
        "target = 'status'"
      ]
    },
    {
      "cell_type": "code",
      "execution_count": null,
      "metadata": {
        "id": "PkqNjl4VVsP3"
      },
      "outputs": [],
      "source": [
        "X = df[features]\n",
        "y = df[target]"
      ]
    },
    {
      "cell_type": "markdown",
      "source": [
        "**Train Test Split**"
      ],
      "metadata": {
        "id": "0ViNd2aaYP67"
      }
    },
    {
      "cell_type": "code",
      "execution_count": null,
      "metadata": {
        "id": "KB6n38bVXqH5"
      },
      "outputs": [],
      "source": [
        "X_train, X_test, y_train, y_test = train_test_split(X, y, test_size=0.2, random_state=42)\n"
      ]
    },
    {
      "cell_type": "markdown",
      "source": [
        "**Decision Tree**"
      ],
      "metadata": {
        "id": "FE6zRowbZ5SR"
      }
    },
    {
      "cell_type": "code",
      "execution_count": null,
      "metadata": {
        "id": "tHmeg6SJXyS_"
      },
      "outputs": [],
      "source": [
        "from sklearn.tree import DecisionTreeClassifier\n",
        "from sklearn.tree import DecisionTreeClassifier\n",
        "from sklearn.model_selection import StratifiedKFold, cross_val_score\n",
        "\n",
        "from sklearn.metrics import accuracy_score"
      ]
    },
    {
      "cell_type": "code",
      "execution_count": null,
      "metadata": {
        "id": "7pIayVIxcAFV",
        "colab": {
          "base_uri": "https://localhost:8080/"
        },
        "outputId": "73677883-ab48-4003-ccda-fe27a39d9871"
      },
      "outputs": [
        {
          "output_type": "stream",
          "name": "stdout",
          "text": [
            "Cross-validated Accuracy Scores: [0.75399399 0.75406409]\n",
            "Accuracy of Best Model: 0.7540640908510033\n"
          ]
        }
      ],
      "source": [
        "clf = DecisionTreeClassifier(random_state=42)\n",
        "\n",
        "# Define k-fold cross-validation\n",
        "kfold = StratifiedKFold(n_splits=2, shuffle=True, random_state=42)\n",
        "\n",
        "# Perform k-fold cross-validation and get the cross-validated accuracy scores\n",
        "cv_scores = cross_val_score(clf, X, y, cv=kfold, scoring='accuracy')\n",
        "\n",
        "# Get the index of the model with the highest accuracy\n",
        "best_model_index = cv_scores.argmax()\n",
        "\n",
        "# Initialize and train the best model on the entire dataset\n",
        "best_model = DecisionTreeClassifier(random_state=42)\n",
        "best_model.fit(X, y)\n",
        "\n",
        "# Print the cross-validated accuracy scores\n",
        "print(\"Cross-validated Accuracy Scores:\", cv_scores)\n",
        "\n",
        "# Show the accuracy of the best model\n",
        "best_model_accuracy = cv_scores[best_model_index]\n",
        "print(\"Accuracy of Best Model:\", best_model_accuracy)"
      ]
    },
    {
      "cell_type": "markdown",
      "source": [
        "**Accuracy**"
      ],
      "metadata": {
        "id": "y75EH6vyZ9xj"
      }
    },
    {
      "cell_type": "code",
      "execution_count": null,
      "metadata": {
        "id": "LxLQAftDXtDW",
        "colab": {
          "base_uri": "https://localhost:8080/"
        },
        "outputId": "65bf12c2-a826-4bf2-dcca-880e816b7da4"
      },
      "outputs": [
        {
          "output_type": "stream",
          "name": "stdout",
          "text": [
            "Accuracy: 0.7678373030064611\n"
          ]
        }
      ],
      "source": [
        "# Train the decision tree classifier\n",
        "clf = DecisionTreeClassifier(random_state=42)\n",
        "clf.fit(X_train, y_train)\n",
        "\n",
        "# Make predictions on the testing set\n",
        "y_pred = clf.predict(X_test)\n",
        "\n",
        "# Evaluate the model\n",
        "accuracy = accuracy_score(y_test, y_pred)\n",
        "print(\"Accuracy:\", accuracy)"
      ]
    },
    {
      "cell_type": "markdown",
      "source": [
        "**Checking new prediction**"
      ],
      "metadata": {
        "id": "wRn6RRuUaDYu"
      }
    },
    {
      "cell_type": "code",
      "execution_count": null,
      "metadata": {
        "id": "kFyanDNBY1PC",
        "colab": {
          "base_uri": "https://localhost:8080/"
        },
        "outputId": "0e64f950-ce06-4909-b8df-c31cc298424f"
      },
      "outputs": [
        {
          "output_type": "stream",
          "name": "stdout",
          "text": [
            "Enter value for price: 6556\n",
            "Enter value for qty_ordered: 3\n",
            "Category options:\n",
            "0: Appliances\n",
            "1: Beauty & Grooming\n",
            "2: Books\n",
            "3: Computing\n",
            "4: Entertainment\n",
            "5: Health & Sports\n",
            "6: Home & Living\n",
            "7: Kids & Baby\n",
            "8: Men's Fashion\n",
            "9: Mobiles & Tablets\n",
            "10: Others\n",
            "11: School & Education\n",
            "12: Soghaat\n",
            "13: Superstore\n",
            "14: Women's Fashion\n",
            "15: \\N\n",
            "Enter category code: 3\n",
            "Enter value for discount_amount: 55\n",
            "Enter value for Year: 2020\n",
            "Enter value for Month: 7\n",
            "Enter value for Customer ID: 2\n",
            "Predicted Status: ['received']\n"
          ]
        }
      ],
      "source": [
        "category_options = {0: 'Appliances', 1: 'Beauty & Grooming', 2: 'Books', 3: 'Computing', 4: 'Entertainment',\n",
        "                    5: 'Health & Sports', 6: 'Home & Living', 7: 'Kids & Baby', 8: \"Men's Fashion\",\n",
        "                    9: 'Mobiles & Tablets', 10: 'Others', 11: 'School & Education', 12: 'Soghaat',\n",
        "                    13: 'Superstore', 14: \"Women's Fashion\", 15: '\\\\N'}\n",
        "\n",
        "# Input new instance values from the user\n",
        "new_instance = {}\n",
        "for feature in features:\n",
        "    if feature == 'category_name_1_encoded':\n",
        "        print(\"Category options:\")\n",
        "        for code, category in category_options.items():\n",
        "            print(\"{}: {}\".format(code, category))\n",
        "        category_code = input(\"Enter category code: \")\n",
        "        while not category_code.isdigit() or int(category_code) not in category_options:\n",
        "            print(\"Invalid category code. Please enter a valid code.\")\n",
        "            category_code = input(\"Enter category code: \")\n",
        "        new_instance[feature] = int(category_code)\n",
        "    else:\n",
        "        value = input(\"Enter value for {}: \".format(feature))\n",
        "        new_instance[feature] = value\n",
        "\n",
        "# Convert the new instance into a DataFrame\n",
        "new_instance_df = pd.DataFrame([new_instance])\n",
        "\n",
        "# Make prediction using the trained classifier\n",
        "predicted_status = clf.predict(new_instance_df)\n",
        "\n",
        "print(\"Predicted Status:\", predicted_status)\n"
      ]
    },
    {
      "cell_type": "code",
      "execution_count": null,
      "metadata": {
        "id": "9c3T_23teFPV"
      },
      "outputs": [],
      "source": [
        "from sklearn.metrics import confusion_matrix, classification_report"
      ]
    },
    {
      "cell_type": "code",
      "execution_count": null,
      "metadata": {
        "id": "8y5lZCUhkfrz",
        "colab": {
          "base_uri": "https://localhost:8080/"
        },
        "outputId": "d23e27f1-26d1-4c23-ba3d-69bead6b7fbe"
      },
      "outputs": [
        {
          "output_type": "stream",
          "name": "stdout",
          "text": [
            "Confusion Matrix:\n",
            "[[     0      0      0      0      0      0      0      2      0      0\n",
            "       0      0      0      0      0]\n",
            " [     0  27011     15     86   7909      0      5   1878     36      3\n",
            "       1      0      1   2824    271]\n",
            " [     0     29     27      0     22      0      0      9      0      0\n",
            "       0      0      0      4      1]\n",
            " [     0    100      0    207     97      0      0     55      2      0\n",
            "       1      0      0    115      7]\n",
            " [     0  10728     36    107 121942      0      3   3755     34      0\n",
            "       2      1      0   2510    514]\n",
            " [     0      2      0      0      0      0      0      0      0      0\n",
            "       0      0      0      0      0]\n",
            " [     0      2      0      0      0      0      1      0      0      0\n",
            "       0      0      0      0      0]\n",
            " [     1   2677      9     58   3967      0      0   4025      4      0\n",
            "       0      1      0   1165    149]\n",
            " [     0     90      0      3     24      0      0     12     74      0\n",
            "       0      0      0     26      6]\n",
            " [     0      3      0      0      0      0      0      0      0      4\n",
            "       0      0      0      4      0]\n",
            " [     0      6      0      0      1      0      0      0      0      0\n",
            "       1      0      0      0      0]\n",
            " [     0      0      0      0      1      0      0      1      0      0\n",
            "       0      0      0      0      0]\n",
            " [     0      4      0      0      0      0      0      0      0      0\n",
            "       0      0      3      0      0]\n",
            " [     1   4116      3     89   2434      0      0   1211     32      4\n",
            "       1      0      0   7399    142]\n",
            " [     0    382      1     12    579      0      0    175      4      0\n",
            "       0      0      0    123    333]]\n"
          ]
        },
        {
          "output_type": "stream",
          "name": "stderr",
          "text": [
            "/usr/local/lib/python3.10/dist-packages/sklearn/metrics/_classification.py:1344: UndefinedMetricWarning:\n",
            "\n",
            "Precision and F-score are ill-defined and being set to 0.0 in labels with no predicted samples. Use `zero_division` parameter to control this behavior.\n",
            "\n",
            "/usr/local/lib/python3.10/dist-packages/sklearn/metrics/_classification.py:1344: UndefinedMetricWarning:\n",
            "\n",
            "Precision and F-score are ill-defined and being set to 0.0 in labels with no predicted samples. Use `zero_division` parameter to control this behavior.\n",
            "\n"
          ]
        },
        {
          "output_type": "stream",
          "name": "stdout",
          "text": [
            "\n",
            "Classification Report:\n",
            "                precision    recall  f1-score   support\n",
            "\n",
            "            \\N       0.00      0.00      0.00         2\n",
            "      canceled       0.60      0.67      0.63     40040\n",
            "        closed       0.30      0.29      0.30        92\n",
            "           cod       0.37      0.35      0.36       584\n",
            "      complete       0.89      0.87      0.88    139632\n",
            "         fraud       0.00      0.00      0.00         2\n",
            "        holded       0.11      0.33      0.17         3\n",
            "order_refunded       0.36      0.33      0.35     12056\n",
            "          paid       0.40      0.31      0.35       235\n",
            "payment_review       0.36      0.36      0.36        11\n",
            "       pending       0.17      0.12      0.14         8\n",
            "pending_paypal       0.00      0.00      0.00         2\n",
            "    processing       0.75      0.43      0.55         7\n",
            "      received       0.52      0.48      0.50     15432\n",
            "        refund       0.23      0.21      0.22      1609\n",
            "\n",
            "      accuracy                           0.77    209715\n",
            "     macro avg       0.34      0.32      0.32    209715\n",
            "  weighted avg       0.77      0.77      0.77    209715\n",
            "\n"
          ]
        },
        {
          "output_type": "stream",
          "name": "stderr",
          "text": [
            "/usr/local/lib/python3.10/dist-packages/sklearn/metrics/_classification.py:1344: UndefinedMetricWarning:\n",
            "\n",
            "Precision and F-score are ill-defined and being set to 0.0 in labels with no predicted samples. Use `zero_division` parameter to control this behavior.\n",
            "\n"
          ]
        }
      ],
      "source": [
        "cm = confusion_matrix(y_test, y_pred)\n",
        "print(\"Confusion Matrix:\")\n",
        "print(cm)\n"
      ]
    },
    {
      "cell_type": "markdown",
      "source": [
        "**Precison,Recall,Accuracy,F1**"
      ],
      "metadata": {
        "id": "s2c6ig-ka54o"
      }
    },
    {
      "cell_type": "code",
      "source": [
        "# Compute classification report\n",
        "report = classification_report(y_test, y_pred)\n",
        "print(\"\\nClassification Report:\")\n",
        "print(report)"
      ],
      "metadata": {
        "colab": {
          "base_uri": "https://localhost:8080/"
        },
        "id": "gn7hPUj1a4EF",
        "outputId": "4d3daa60-52ed-4622-c3b0-28316ba7e21b"
      },
      "execution_count": null,
      "outputs": [
        {
          "output_type": "stream",
          "name": "stderr",
          "text": [
            "/usr/local/lib/python3.10/dist-packages/sklearn/metrics/_classification.py:1344: UndefinedMetricWarning:\n",
            "\n",
            "Precision and F-score are ill-defined and being set to 0.0 in labels with no predicted samples. Use `zero_division` parameter to control this behavior.\n",
            "\n",
            "/usr/local/lib/python3.10/dist-packages/sklearn/metrics/_classification.py:1344: UndefinedMetricWarning:\n",
            "\n",
            "Precision and F-score are ill-defined and being set to 0.0 in labels with no predicted samples. Use `zero_division` parameter to control this behavior.\n",
            "\n"
          ]
        },
        {
          "output_type": "stream",
          "name": "stdout",
          "text": [
            "\n",
            "Classification Report:\n",
            "                precision    recall  f1-score   support\n",
            "\n",
            "            \\N       0.00      0.00      0.00         2\n",
            "      canceled       0.60      0.67      0.63     40040\n",
            "        closed       0.30      0.29      0.30        92\n",
            "           cod       0.37      0.35      0.36       584\n",
            "      complete       0.89      0.87      0.88    139632\n",
            "         fraud       0.00      0.00      0.00         2\n",
            "        holded       0.11      0.33      0.17         3\n",
            "order_refunded       0.36      0.33      0.35     12056\n",
            "          paid       0.40      0.31      0.35       235\n",
            "payment_review       0.36      0.36      0.36        11\n",
            "       pending       0.17      0.12      0.14         8\n",
            "pending_paypal       0.00      0.00      0.00         2\n",
            "    processing       0.75      0.43      0.55         7\n",
            "      received       0.52      0.48      0.50     15432\n",
            "        refund       0.23      0.21      0.22      1609\n",
            "\n",
            "      accuracy                           0.77    209715\n",
            "     macro avg       0.34      0.32      0.32    209715\n",
            "  weighted avg       0.77      0.77      0.77    209715\n",
            "\n"
          ]
        },
        {
          "output_type": "stream",
          "name": "stderr",
          "text": [
            "/usr/local/lib/python3.10/dist-packages/sklearn/metrics/_classification.py:1344: UndefinedMetricWarning:\n",
            "\n",
            "Precision and F-score are ill-defined and being set to 0.0 in labels with no predicted samples. Use `zero_division` parameter to control this behavior.\n",
            "\n"
          ]
        }
      ]
    },
    {
      "cell_type": "code",
      "execution_count": null,
      "metadata": {
        "id": "R4k0a6zClG4L"
      },
      "outputs": [],
      "source": [
        "from sklearn.svm import SVC\n",
        "from sklearn.metrics import accuracy_score, precision_score, recall_score, f1_score, confusion_matrix, classification_report\n",
        "\n",
        "# Initialize the SVM classifier\n",
        "svm_clf = SVC(kernel='linear', random_state=42)  # You can choose different kernels like 'linear', 'poly', 'sigmoid', etc.\n",
        "\n",
        "# Train the SVM classifier\n",
        "svm_clf.fit(X_train, y_train)\n",
        "\n",
        "# Make predictions on the test set\n",
        "y_pred_svm = svm_clf.predict(X_test)\n",
        "\n",
        "# Evaluate the SVM classifier\n",
        "accuracy_svm = accuracy_score(y_test, y_pred_svm)\n",
        "precision_svm = precision_score(y_test, y_pred_svm)\n",
        "recall_svm = recall_score(y_test, y_pred_svm)\n",
        "f1_svm = f1_score(y_test, y_pred_svm)\n",
        "\n",
        "# Create a confusion matrix\n",
        "cm_svm = confusion_matrix(y_test, y_pred_svm)\n",
        "\n",
        "# Print the evaluation metrics\n",
        "print(\"SVM Accuracy:\", accuracy_svm)\n",
        "print(\"SVM Precision:\", precision_svm)\n",
        "print(\"SVM Recall:\", recall_svm)\n",
        "print(\"SVM F1-score:\", f1_svm)\n",
        "print(\"\\nSVM Confusion Matrix:\")\n",
        "print(cm_svm)\n",
        "\n",
        "# Generate and print the classification report\n",
        "report_svm = classification_report(y_test, y_pred_svm)\n",
        "print(\"\\nSVM Classification Report:\")\n",
        "print(report_svm)\n"
      ]
    },
    {
      "cell_type": "markdown",
      "source": [
        "**Logistic Regression Classifier**"
      ],
      "metadata": {
        "id": "NC8nbiEibUUt"
      }
    },
    {
      "cell_type": "code",
      "source": [
        "from sklearn.linear_model import LogisticRegression\n",
        "from sklearn.metrics import accuracy_score, precision_score, recall_score, f1_score, confusion_matrix, classification_report\n",
        "from sklearn.model_selection import train_test_split\n",
        "import pandas as pd\n"
      ],
      "metadata": {
        "id": "e1aPkFseDVbt"
      },
      "execution_count": null,
      "outputs": []
    },
    {
      "cell_type": "code",
      "source": [
        "X_train, X_test, y_train, y_test = train_test_split(X, y, test_size=0.2, random_state=42)\n"
      ],
      "metadata": {
        "id": "1NIcDK2KDVfK"
      },
      "execution_count": null,
      "outputs": []
    },
    {
      "cell_type": "code",
      "source": [
        "# Initialize the Logistic Regression classifier\n",
        "logreg_clf = LogisticRegression(random_state=42)\n",
        "\n",
        "# Train the classifier on the training data\n",
        "logreg_clf.fit(X_train, y_train)\n"
      ],
      "metadata": {
        "colab": {
          "base_uri": "https://localhost:8080/",
          "height": 248
        },
        "id": "8wXhZhDZDVYO",
        "outputId": "084a1855-b096-4a7e-abca-926692e9bf31"
      },
      "execution_count": null,
      "outputs": [
        {
          "output_type": "stream",
          "name": "stderr",
          "text": [
            "/usr/local/lib/python3.10/dist-packages/sklearn/linear_model/_logistic.py:458: ConvergenceWarning:\n",
            "\n",
            "lbfgs failed to converge (status=1):\n",
            "STOP: TOTAL NO. of ITERATIONS REACHED LIMIT.\n",
            "\n",
            "Increase the number of iterations (max_iter) or scale the data as shown in:\n",
            "    https://scikit-learn.org/stable/modules/preprocessing.html\n",
            "Please also refer to the documentation for alternative solver options:\n",
            "    https://scikit-learn.org/stable/modules/linear_model.html#logistic-regression\n",
            "\n"
          ]
        },
        {
          "output_type": "execute_result",
          "data": {
            "text/plain": [
              "LogisticRegression(random_state=42)"
            ],
            "text/html": [
              "<style>#sk-container-id-1 {color: black;background-color: white;}#sk-container-id-1 pre{padding: 0;}#sk-container-id-1 div.sk-toggleable {background-color: white;}#sk-container-id-1 label.sk-toggleable__label {cursor: pointer;display: block;width: 100%;margin-bottom: 0;padding: 0.3em;box-sizing: border-box;text-align: center;}#sk-container-id-1 label.sk-toggleable__label-arrow:before {content: \"▸\";float: left;margin-right: 0.25em;color: #696969;}#sk-container-id-1 label.sk-toggleable__label-arrow:hover:before {color: black;}#sk-container-id-1 div.sk-estimator:hover label.sk-toggleable__label-arrow:before {color: black;}#sk-container-id-1 div.sk-toggleable__content {max-height: 0;max-width: 0;overflow: hidden;text-align: left;background-color: #f0f8ff;}#sk-container-id-1 div.sk-toggleable__content pre {margin: 0.2em;color: black;border-radius: 0.25em;background-color: #f0f8ff;}#sk-container-id-1 input.sk-toggleable__control:checked~div.sk-toggleable__content {max-height: 200px;max-width: 100%;overflow: auto;}#sk-container-id-1 input.sk-toggleable__control:checked~label.sk-toggleable__label-arrow:before {content: \"▾\";}#sk-container-id-1 div.sk-estimator input.sk-toggleable__control:checked~label.sk-toggleable__label {background-color: #d4ebff;}#sk-container-id-1 div.sk-label input.sk-toggleable__control:checked~label.sk-toggleable__label {background-color: #d4ebff;}#sk-container-id-1 input.sk-hidden--visually {border: 0;clip: rect(1px 1px 1px 1px);clip: rect(1px, 1px, 1px, 1px);height: 1px;margin: -1px;overflow: hidden;padding: 0;position: absolute;width: 1px;}#sk-container-id-1 div.sk-estimator {font-family: monospace;background-color: #f0f8ff;border: 1px dotted black;border-radius: 0.25em;box-sizing: border-box;margin-bottom: 0.5em;}#sk-container-id-1 div.sk-estimator:hover {background-color: #d4ebff;}#sk-container-id-1 div.sk-parallel-item::after {content: \"\";width: 100%;border-bottom: 1px solid gray;flex-grow: 1;}#sk-container-id-1 div.sk-label:hover label.sk-toggleable__label {background-color: #d4ebff;}#sk-container-id-1 div.sk-serial::before {content: \"\";position: absolute;border-left: 1px solid gray;box-sizing: border-box;top: 0;bottom: 0;left: 50%;z-index: 0;}#sk-container-id-1 div.sk-serial {display: flex;flex-direction: column;align-items: center;background-color: white;padding-right: 0.2em;padding-left: 0.2em;position: relative;}#sk-container-id-1 div.sk-item {position: relative;z-index: 1;}#sk-container-id-1 div.sk-parallel {display: flex;align-items: stretch;justify-content: center;background-color: white;position: relative;}#sk-container-id-1 div.sk-item::before, #sk-container-id-1 div.sk-parallel-item::before {content: \"\";position: absolute;border-left: 1px solid gray;box-sizing: border-box;top: 0;bottom: 0;left: 50%;z-index: -1;}#sk-container-id-1 div.sk-parallel-item {display: flex;flex-direction: column;z-index: 1;position: relative;background-color: white;}#sk-container-id-1 div.sk-parallel-item:first-child::after {align-self: flex-end;width: 50%;}#sk-container-id-1 div.sk-parallel-item:last-child::after {align-self: flex-start;width: 50%;}#sk-container-id-1 div.sk-parallel-item:only-child::after {width: 0;}#sk-container-id-1 div.sk-dashed-wrapped {border: 1px dashed gray;margin: 0 0.4em 0.5em 0.4em;box-sizing: border-box;padding-bottom: 0.4em;background-color: white;}#sk-container-id-1 div.sk-label label {font-family: monospace;font-weight: bold;display: inline-block;line-height: 1.2em;}#sk-container-id-1 div.sk-label-container {text-align: center;}#sk-container-id-1 div.sk-container {/* jupyter's `normalize.less` sets `[hidden] { display: none; }` but bootstrap.min.css set `[hidden] { display: none !important; }` so we also need the `!important` here to be able to override the default hidden behavior on the sphinx rendered scikit-learn.org. See: https://github.com/scikit-learn/scikit-learn/issues/21755 */display: inline-block !important;position: relative;}#sk-container-id-1 div.sk-text-repr-fallback {display: none;}</style><div id=\"sk-container-id-1\" class=\"sk-top-container\"><div class=\"sk-text-repr-fallback\"><pre>LogisticRegression(random_state=42)</pre><b>In a Jupyter environment, please rerun this cell to show the HTML representation or trust the notebook. <br />On GitHub, the HTML representation is unable to render, please try loading this page with nbviewer.org.</b></div><div class=\"sk-container\" hidden><div class=\"sk-item\"><div class=\"sk-estimator sk-toggleable\"><input class=\"sk-toggleable__control sk-hidden--visually\" id=\"sk-estimator-id-1\" type=\"checkbox\" checked><label for=\"sk-estimator-id-1\" class=\"sk-toggleable__label sk-toggleable__label-arrow\">LogisticRegression</label><div class=\"sk-toggleable__content\"><pre>LogisticRegression(random_state=42)</pre></div></div></div></div></div>"
            ]
          },
          "metadata": {},
          "execution_count": 71
        }
      ]
    },
    {
      "cell_type": "code",
      "source": [
        "# Make predictions on the test set\n",
        "y_pred_logreg = logreg_clf.predict(X_test)\n",
        "\n",
        "# Evaluate the classifier\n",
        "accuracy_logreg = accuracy_score(y_test, y_pred_logreg)\n",
        "# Calculate metrics with 'macro' average\n",
        "precision_macro = precision_score(y_test, y_pred_logreg, average='macro')\n",
        "recall_macro = recall_score(y_test, y_pred_logreg, average='macro')\n",
        "f1_macro = f1_score(y_test, y_pred_logreg, average='macro')\n",
        "\n",
        "# Print metrics with 'macro' average\n",
        "print(\"Logistic Regression Precision (Macro):\", precision_macro)\n",
        "print(\"Logistic Regression Recall (Macro):\", recall_macro)\n",
        "print(\"Logistic Regression F1-score (Macro):\", f1_macro)\n",
        "\n",
        "# Create a confusion matrix\n",
        "cm_logreg = confusion_matrix(y_test, y_pred_logreg)\n",
        "# Print the evaluation metrics\n",
        "print(\"----------------------------------------------\")\n",
        "print(\"Logistic Regression Accuracy:\", accuracy_logreg)\n",
        "print(\"----------------------------------------------\")\n",
        "\n",
        "# Generate and print the classification report\n",
        "report_logreg = classification_report(y_test, y_pred_logreg)\n",
        "print(\"\\nLogistic Regression Classification Report:\")\n",
        "print(report_logreg)\n"
      ],
      "metadata": {
        "colab": {
          "base_uri": "https://localhost:8080/"
        },
        "id": "hM44pDYLDGW2",
        "outputId": "5e528e62-1acd-4bf1-d4b5-88f568b1acb3"
      },
      "execution_count": null,
      "outputs": [
        {
          "output_type": "stream",
          "name": "stderr",
          "text": [
            "/usr/local/lib/python3.10/dist-packages/sklearn/metrics/_classification.py:1344: UndefinedMetricWarning:\n",
            "\n",
            "Precision is ill-defined and being set to 0.0 in labels with no predicted samples. Use `zero_division` parameter to control this behavior.\n",
            "\n"
          ]
        },
        {
          "output_type": "stream",
          "name": "stdout",
          "text": [
            "Logistic Regression Precision (Macro): 0.11859688138381799\n",
            "Logistic Regression Recall (Macro): 0.07864817580402346\n",
            "Logistic Regression F1-score (Macro): 0.07485856611633582\n",
            "----------------------------------------------\n",
            "Logistic Regression Accuracy: 0.68363254893546\n",
            "----------------------------------------------\n"
          ]
        },
        {
          "output_type": "stream",
          "name": "stderr",
          "text": [
            "/usr/local/lib/python3.10/dist-packages/sklearn/metrics/_classification.py:1344: UndefinedMetricWarning:\n",
            "\n",
            "Precision and F-score are ill-defined and being set to 0.0 in labels with no predicted samples. Use `zero_division` parameter to control this behavior.\n",
            "\n",
            "/usr/local/lib/python3.10/dist-packages/sklearn/metrics/_classification.py:1344: UndefinedMetricWarning:\n",
            "\n",
            "Precision and F-score are ill-defined and being set to 0.0 in labels with no predicted samples. Use `zero_division` parameter to control this behavior.\n",
            "\n"
          ]
        },
        {
          "output_type": "stream",
          "name": "stdout",
          "text": [
            "\n",
            "Logistic Regression Classification Report:\n",
            "                precision    recall  f1-score   support\n",
            "\n",
            "            \\N       0.00      0.00      0.00         2\n",
            "      canceled       0.69      0.07      0.13     40040\n",
            "        closed       0.00      0.00      0.00        92\n",
            "           cod       0.00      0.00      0.00       584\n",
            "      complete       0.69      0.99      0.81    139632\n",
            "         fraud       0.00      0.00      0.00         2\n",
            "        holded       0.00      0.00      0.00         3\n",
            "order_refunded       0.00      0.00      0.00     12056\n",
            "          paid       0.00      0.00      0.00       235\n",
            "payment_review       0.00      0.00      0.00        11\n",
            "       pending       0.00      0.00      0.00         8\n",
            "pending_paypal       0.00      0.00      0.00         2\n",
            "    processing       0.00      0.00      0.00         7\n",
            "      received       0.40      0.11      0.18     15432\n",
            "        refund       0.00      0.00      0.00      1609\n",
            "\n",
            "      accuracy                           0.68    209715\n",
            "     macro avg       0.12      0.08      0.07    209715\n",
            "  weighted avg       0.62      0.68      0.58    209715\n",
            "\n"
          ]
        },
        {
          "output_type": "stream",
          "name": "stderr",
          "text": [
            "/usr/local/lib/python3.10/dist-packages/sklearn/metrics/_classification.py:1344: UndefinedMetricWarning:\n",
            "\n",
            "Precision and F-score are ill-defined and being set to 0.0 in labels with no predicted samples. Use `zero_division` parameter to control this behavior.\n",
            "\n"
          ]
        }
      ]
    },
    {
      "cell_type": "markdown",
      "source": [
        "**MLP Neural Network Classifier**"
      ],
      "metadata": {
        "id": "IBU3ah4Bp-6k"
      }
    },
    {
      "cell_type": "code",
      "source": [
        "from sklearn.neural_network import MLPClassifier\n",
        "from sklearn.metrics import accuracy_score, precision_score, recall_score, f1_score, confusion_matrix, classification_report\n",
        "from sklearn.model_selection import train_test_split\n",
        "import pandas as pd\n"
      ],
      "metadata": {
        "id": "O2_dMjpGIjZU"
      },
      "execution_count": null,
      "outputs": []
    },
    {
      "cell_type": "code",
      "source": [
        "X_train, X_test, y_train, y_test = train_test_split(X, y, test_size=0.2, random_state=42)\n"
      ],
      "metadata": {
        "id": "a14VVam1Ijih"
      },
      "execution_count": null,
      "outputs": []
    },
    {
      "cell_type": "code",
      "source": [
        "# Initialize the MLP classifier with desired parameters\n",
        "mlp_clf = MLPClassifier(hidden_layer_sizes=(100, 50), max_iter=500, random_state=42)\n",
        "\n",
        "# Train the classifier on the training data\n",
        "mlp_clf.fit(X_train, y_train)\n"
      ],
      "metadata": {
        "colab": {
          "base_uri": "https://localhost:8080/",
          "height": 74
        },
        "id": "kAT7a47-IjmM",
        "outputId": "2eb170c2-7d5c-441e-eb6e-d6102ace2eb6"
      },
      "execution_count": null,
      "outputs": [
        {
          "output_type": "execute_result",
          "data": {
            "text/plain": [
              "MLPClassifier(hidden_layer_sizes=(100, 50), max_iter=500, random_state=42)"
            ],
            "text/html": [
              "<style>#sk-container-id-2 {color: black;background-color: white;}#sk-container-id-2 pre{padding: 0;}#sk-container-id-2 div.sk-toggleable {background-color: white;}#sk-container-id-2 label.sk-toggleable__label {cursor: pointer;display: block;width: 100%;margin-bottom: 0;padding: 0.3em;box-sizing: border-box;text-align: center;}#sk-container-id-2 label.sk-toggleable__label-arrow:before {content: \"▸\";float: left;margin-right: 0.25em;color: #696969;}#sk-container-id-2 label.sk-toggleable__label-arrow:hover:before {color: black;}#sk-container-id-2 div.sk-estimator:hover label.sk-toggleable__label-arrow:before {color: black;}#sk-container-id-2 div.sk-toggleable__content {max-height: 0;max-width: 0;overflow: hidden;text-align: left;background-color: #f0f8ff;}#sk-container-id-2 div.sk-toggleable__content pre {margin: 0.2em;color: black;border-radius: 0.25em;background-color: #f0f8ff;}#sk-container-id-2 input.sk-toggleable__control:checked~div.sk-toggleable__content {max-height: 200px;max-width: 100%;overflow: auto;}#sk-container-id-2 input.sk-toggleable__control:checked~label.sk-toggleable__label-arrow:before {content: \"▾\";}#sk-container-id-2 div.sk-estimator input.sk-toggleable__control:checked~label.sk-toggleable__label {background-color: #d4ebff;}#sk-container-id-2 div.sk-label input.sk-toggleable__control:checked~label.sk-toggleable__label {background-color: #d4ebff;}#sk-container-id-2 input.sk-hidden--visually {border: 0;clip: rect(1px 1px 1px 1px);clip: rect(1px, 1px, 1px, 1px);height: 1px;margin: -1px;overflow: hidden;padding: 0;position: absolute;width: 1px;}#sk-container-id-2 div.sk-estimator {font-family: monospace;background-color: #f0f8ff;border: 1px dotted black;border-radius: 0.25em;box-sizing: border-box;margin-bottom: 0.5em;}#sk-container-id-2 div.sk-estimator:hover {background-color: #d4ebff;}#sk-container-id-2 div.sk-parallel-item::after {content: \"\";width: 100%;border-bottom: 1px solid gray;flex-grow: 1;}#sk-container-id-2 div.sk-label:hover label.sk-toggleable__label {background-color: #d4ebff;}#sk-container-id-2 div.sk-serial::before {content: \"\";position: absolute;border-left: 1px solid gray;box-sizing: border-box;top: 0;bottom: 0;left: 50%;z-index: 0;}#sk-container-id-2 div.sk-serial {display: flex;flex-direction: column;align-items: center;background-color: white;padding-right: 0.2em;padding-left: 0.2em;position: relative;}#sk-container-id-2 div.sk-item {position: relative;z-index: 1;}#sk-container-id-2 div.sk-parallel {display: flex;align-items: stretch;justify-content: center;background-color: white;position: relative;}#sk-container-id-2 div.sk-item::before, #sk-container-id-2 div.sk-parallel-item::before {content: \"\";position: absolute;border-left: 1px solid gray;box-sizing: border-box;top: 0;bottom: 0;left: 50%;z-index: -1;}#sk-container-id-2 div.sk-parallel-item {display: flex;flex-direction: column;z-index: 1;position: relative;background-color: white;}#sk-container-id-2 div.sk-parallel-item:first-child::after {align-self: flex-end;width: 50%;}#sk-container-id-2 div.sk-parallel-item:last-child::after {align-self: flex-start;width: 50%;}#sk-container-id-2 div.sk-parallel-item:only-child::after {width: 0;}#sk-container-id-2 div.sk-dashed-wrapped {border: 1px dashed gray;margin: 0 0.4em 0.5em 0.4em;box-sizing: border-box;padding-bottom: 0.4em;background-color: white;}#sk-container-id-2 div.sk-label label {font-family: monospace;font-weight: bold;display: inline-block;line-height: 1.2em;}#sk-container-id-2 div.sk-label-container {text-align: center;}#sk-container-id-2 div.sk-container {/* jupyter's `normalize.less` sets `[hidden] { display: none; }` but bootstrap.min.css set `[hidden] { display: none !important; }` so we also need the `!important` here to be able to override the default hidden behavior on the sphinx rendered scikit-learn.org. See: https://github.com/scikit-learn/scikit-learn/issues/21755 */display: inline-block !important;position: relative;}#sk-container-id-2 div.sk-text-repr-fallback {display: none;}</style><div id=\"sk-container-id-2\" class=\"sk-top-container\"><div class=\"sk-text-repr-fallback\"><pre>MLPClassifier(hidden_layer_sizes=(100, 50), max_iter=500, random_state=42)</pre><b>In a Jupyter environment, please rerun this cell to show the HTML representation or trust the notebook. <br />On GitHub, the HTML representation is unable to render, please try loading this page with nbviewer.org.</b></div><div class=\"sk-container\" hidden><div class=\"sk-item\"><div class=\"sk-estimator sk-toggleable\"><input class=\"sk-toggleable__control sk-hidden--visually\" id=\"sk-estimator-id-2\" type=\"checkbox\" checked><label for=\"sk-estimator-id-2\" class=\"sk-toggleable__label sk-toggleable__label-arrow\">MLPClassifier</label><div class=\"sk-toggleable__content\"><pre>MLPClassifier(hidden_layer_sizes=(100, 50), max_iter=500, random_state=42)</pre></div></div></div></div></div>"
            ]
          },
          "metadata": {},
          "execution_count": 76
        }
      ]
    },
    {
      "cell_type": "code",
      "source": [
        "# Make predictions on the test set\n",
        "y_pred_mlp = mlp_clf.predict(X_test)\n",
        "\n",
        "# Evaluate the classifier\n",
        "accuracy_mlp = accuracy_score(y_test, y_pred_mlp)\n",
        "precision_mlp = precision_score(y_test, y_pred_mlp, average='macro')  # Use 'macro' for multiclass\n",
        "recall_mlp = recall_score(y_test, y_pred_mlp, average='macro')\n",
        "f1_mlp = f1_score(y_test, y_pred_mlp, average='macro')\n",
        "\n",
        "# Create a confusion matrix\n",
        "cm_mlp = confusion_matrix(y_test, y_pred_mlp)\n",
        "\n",
        "# Print the evaluation metrics\n",
        "print(\"MLP Accuracy:\", accuracy_mlp)\n",
        "print(\"MLP Precision:\", precision_mlp)\n",
        "print(\"MLP Recall:\", recall_mlp)\n",
        "print(\"MLP F1-score:\", f1_mlp)\n",
        "\n",
        "# Generate and print the classification report\n",
        "report_mlp = classification_report(y_test, y_pred_mlp)\n",
        "print(\"\\nMLP Classification Report:\")\n",
        "print(report_mlp)\n"
      ],
      "metadata": {
        "colab": {
          "base_uri": "https://localhost:8080/"
        },
        "id": "km5nrSL2Ijti",
        "outputId": "7783e1fb-bde9-4cf4-b78b-68302bdfbd61"
      },
      "execution_count": null,
      "outputs": [
        {
          "output_type": "stream",
          "name": "stderr",
          "text": [
            "/usr/local/lib/python3.10/dist-packages/sklearn/metrics/_classification.py:1344: UndefinedMetricWarning:\n",
            "\n",
            "Precision is ill-defined and being set to 0.0 in labels with no predicted samples. Use `zero_division` parameter to control this behavior.\n",
            "\n"
          ]
        },
        {
          "output_type": "stream",
          "name": "stdout",
          "text": [
            "MLP Accuracy: 0.665817895715614\n",
            "MLP Precision: 0.04438785971437427\n",
            "MLP Recall: 0.06666666666666667\n",
            "MLP F1-score: 0.05329257156924204\n",
            "\n",
            "MLP Confusion Matrix:\n",
            "[[     0      0      0      0      2      0      0      0      0      0\n",
            "       0      0      0      0      0]\n",
            " [     0      0      0      0  40040      0      0      0      0      0\n",
            "       0      0      0      0      0]\n",
            " [     0      0      0      0     92      0      0      0      0      0\n",
            "       0      0      0      0      0]\n",
            " [     0      0      0      0    584      0      0      0      0      0\n",
            "       0      0      0      0      0]\n",
            " [     0      0      0      0 139632      0      0      0      0      0\n",
            "       0      0      0      0      0]\n",
            " [     0      0      0      0      2      0      0      0      0      0\n",
            "       0      0      0      0      0]\n",
            " [     0      0      0      0      3      0      0      0      0      0\n",
            "       0      0      0      0      0]\n",
            " [     0      0      0      0  12056      0      0      0      0      0\n",
            "       0      0      0      0      0]\n",
            " [     0      0      0      0    235      0      0      0      0      0\n",
            "       0      0      0      0      0]\n",
            " [     0      0      0      0     11      0      0      0      0      0\n",
            "       0      0      0      0      0]\n",
            " [     0      0      0      0      8      0      0      0      0      0\n",
            "       0      0      0      0      0]\n",
            " [     0      0      0      0      2      0      0      0      0      0\n",
            "       0      0      0      0      0]\n",
            " [     0      0      0      0      7      0      0      0      0      0\n",
            "       0      0      0      0      0]\n",
            " [     0      0      0      0  15432      0      0      0      0      0\n",
            "       0      0      0      0      0]\n",
            " [     0      0      0      0   1609      0      0      0      0      0\n",
            "       0      0      0      0      0]]\n"
          ]
        },
        {
          "output_type": "stream",
          "name": "stderr",
          "text": [
            "/usr/local/lib/python3.10/dist-packages/sklearn/metrics/_classification.py:1344: UndefinedMetricWarning:\n",
            "\n",
            "Precision and F-score are ill-defined and being set to 0.0 in labels with no predicted samples. Use `zero_division` parameter to control this behavior.\n",
            "\n",
            "/usr/local/lib/python3.10/dist-packages/sklearn/metrics/_classification.py:1344: UndefinedMetricWarning:\n",
            "\n",
            "Precision and F-score are ill-defined and being set to 0.0 in labels with no predicted samples. Use `zero_division` parameter to control this behavior.\n",
            "\n"
          ]
        },
        {
          "output_type": "stream",
          "name": "stdout",
          "text": [
            "\n",
            "MLP Classification Report:\n",
            "                precision    recall  f1-score   support\n",
            "\n",
            "            \\N       0.00      0.00      0.00         2\n",
            "      canceled       0.00      0.00      0.00     40040\n",
            "        closed       0.00      0.00      0.00        92\n",
            "           cod       0.00      0.00      0.00       584\n",
            "      complete       0.67      1.00      0.80    139632\n",
            "         fraud       0.00      0.00      0.00         2\n",
            "        holded       0.00      0.00      0.00         3\n",
            "order_refunded       0.00      0.00      0.00     12056\n",
            "          paid       0.00      0.00      0.00       235\n",
            "payment_review       0.00      0.00      0.00        11\n",
            "       pending       0.00      0.00      0.00         8\n",
            "pending_paypal       0.00      0.00      0.00         2\n",
            "    processing       0.00      0.00      0.00         7\n",
            "      received       0.00      0.00      0.00     15432\n",
            "        refund       0.00      0.00      0.00      1609\n",
            "\n",
            "      accuracy                           0.67    209715\n",
            "     macro avg       0.04      0.07      0.05    209715\n",
            "  weighted avg       0.44      0.67      0.53    209715\n",
            "\n"
          ]
        },
        {
          "output_type": "stream",
          "name": "stderr",
          "text": [
            "/usr/local/lib/python3.10/dist-packages/sklearn/metrics/_classification.py:1344: UndefinedMetricWarning:\n",
            "\n",
            "Precision and F-score are ill-defined and being set to 0.0 in labels with no predicted samples. Use `zero_division` parameter to control this behavior.\n",
            "\n"
          ]
        }
      ]
    },
    {
      "cell_type": "code",
      "source": [
        "pip install wikipedia-api\n"
      ],
      "metadata": {
        "colab": {
          "base_uri": "https://localhost:8080/"
        },
        "id": "ch5vDuao0diT",
        "outputId": "3387bfd7-6622-44d5-a7fa-77e044526106"
      },
      "execution_count": null,
      "outputs": [
        {
          "output_type": "stream",
          "name": "stdout",
          "text": [
            "Collecting wikipedia-api\n",
            "  Downloading Wikipedia_API-0.6.0-py3-none-any.whl (14 kB)\n",
            "Requirement already satisfied: requests in /usr/local/lib/python3.10/dist-packages (from wikipedia-api) (2.31.0)\n",
            "Requirement already satisfied: charset-normalizer<4,>=2 in /usr/local/lib/python3.10/dist-packages (from requests->wikipedia-api) (3.3.2)\n",
            "Requirement already satisfied: idna<4,>=2.5 in /usr/local/lib/python3.10/dist-packages (from requests->wikipedia-api) (3.7)\n",
            "Requirement already satisfied: urllib3<3,>=1.21.1 in /usr/local/lib/python3.10/dist-packages (from requests->wikipedia-api) (2.0.7)\n",
            "Requirement already satisfied: certifi>=2017.4.17 in /usr/local/lib/python3.10/dist-packages (from requests->wikipedia-api) (2024.2.2)\n",
            "Installing collected packages: wikipedia-api\n",
            "Successfully installed wikipedia-api-0.6.0\n"
          ]
        }
      ]
    },
    {
      "cell_type": "code",
      "source": [
        "import requests\n",
        "\n",
        "def search_wikipedia(query):\n",
        "    # Wikipedia API endpoint URL\n",
        "    url = \"https://en.wikipedia.org/w/api.php\"\n",
        "\n",
        "    # Parameters for the API request\n",
        "    params = {\n",
        "        \"action\": \"query\",\n",
        "        \"format\": \"json\",\n",
        "        \"titles\": query,\n",
        "        \"prop\": \"extracts\",\n",
        "        \"exintro\": True,\n",
        "        \"explaintext\": True\n",
        "    }\n",
        "\n",
        "    # Set custom user agent\n",
        "    headers = {\n",
        "        \"User-Agent\": \"MyCoolApp/1.0\"\n",
        "    }\n",
        "\n",
        "    # Make the API request\n",
        "    response = requests.get(url, params=params, headers=headers)\n",
        "    data = response.json()\n",
        "\n",
        "    # Extract page content from the response\n",
        "    pages = data[\"query\"][\"pages\"]\n",
        "    if pages:\n",
        "        page_id = next(iter(pages))\n",
        "        page_data = pages[page_id]\n",
        "        title = page_data[\"title\"]\n",
        "        if \"extract\" in page_data:\n",
        "            summary = page_data[\"extract\"]\n",
        "            print(\"Title:\", title)\n",
        "            print(\"Summary:\")\n",
        "            print(summary)\n",
        "        else:\n",
        "            print(\"Summary not available.\")\n",
        "    else:\n",
        "        print(\"Page not found.\")\n",
        "\n",
        "# Take input from the user\n",
        "user_input = input(\"Enter your search query: \")\n",
        "\n",
        "# Call the search_wikipedia function with user input\n",
        "search_wikipedia(user_input)\n"
      ],
      "metadata": {
        "colab": {
          "base_uri": "https://localhost:8080/"
        },
        "id": "IrQVvbjm0dfP",
        "outputId": "5a93c6c5-fc3c-445c-f1b4-acaa55e8df24"
      },
      "execution_count": null,
      "outputs": [
        {
          "output_type": "stream",
          "name": "stdout",
          "text": [
            "Enter your search query: data mining\n",
            "Title: Data mining\n",
            "Summary:\n",
            "Data mining is the process of extracting and discovering patterns in large data sets involving methods at the intersection of machine learning, statistics, and database systems. Data mining is an interdisciplinary subfield of computer science and statistics with an overall goal of extracting information (with intelligent methods) from a data set and transforming the information into a comprehensible structure for further use. Data mining is the analysis step of the \"knowledge discovery in databases\" process, or KDD. Aside from the raw analysis step, it also involves database and data management aspects, data pre-processing, model and inference considerations, interestingness metrics, complexity considerations, post-processing of discovered structures, visualization, and online updating.The term \"data mining\" is a misnomer because the goal is the extraction of patterns and knowledge from large amounts of data, not the extraction (mining) of data itself. It also is a buzzword and is frequently applied to any form of large-scale data or information processing (collection, extraction, warehousing, analysis, and statistics) as well as any application of computer decision support system, including artificial intelligence (e.g., machine learning) and business intelligence. Often the more general terms (large scale) data analysis and analytics—or, when referring to actual methods, artificial intelligence and machine learning—are more appropriate.\n",
            "The actual data mining task is the semi-automatic or automatic analysis of large quantities of data to extract previously unknown, interesting patterns such as groups of data records (cluster analysis), unusual records (anomaly detection), and dependencies (association rule mining, sequential pattern mining). This usually involves using database techniques such as spatial indices. These patterns can then be seen as a kind of summary of the input data, and may be used in further analysis or, for example, in machine learning and predictive analytics. For example, the data mining step might identify multiple groups in the data, which can then be used to obtain more accurate prediction results by a decision support system. Neither the data collection, data preparation, nor result interpretation and reporting is part of the data mining step, although they do belong to the overall KDD process as additional steps.\n",
            "The difference between data analysis and data mining is that data analysis is used to test models and hypotheses on the dataset, e.g., analyzing the effectiveness of a marketing campaign, regardless of the amount of data. In contrast, data mining uses machine learning and statistical models to uncover clandestine or hidden patterns in a large volume of data.The related terms data dredging, data fishing, and data snooping refer to the use of data mining methods to sample parts of a larger population data set that are (or may be) too small for reliable statistical inferences to be made about the validity of any patterns discovered. These methods can, however, be used in creating new hypotheses to test against the larger data populations.\n"
          ]
        }
      ]
    },
    {
      "cell_type": "code",
      "source": [],
      "metadata": {
        "id": "mbZtV5Fk0dlc"
      },
      "execution_count": null,
      "outputs": []
    }
  ],
  "metadata": {
    "colab": {
      "provenance": []
    },
    "kernelspec": {
      "display_name": "Python 3",
      "name": "python3"
    },
    "language_info": {
      "name": "python"
    }
  },
  "nbformat": 4,
  "nbformat_minor": 0
}